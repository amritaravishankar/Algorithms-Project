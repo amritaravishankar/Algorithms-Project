{
 "cells": [
  {
   "cell_type": "markdown",
   "metadata": {},
   "source": [
    "# CZ2001 Algorithms - Group SS2, Team 4\n",
    "## Example Class 4 Source Code (in Python)"
   ]
  },
  {
   "cell_type": "code",
   "execution_count": 1,
   "metadata": {},
   "outputs": [],
   "source": [
    "import numpy as np\n",
    "import networkx as nx\n",
    "import matplotlib.pyplot as plt\n",
    "import random\n",
    "import time\n",
    "import math"
   ]
  },
  {
   "cell_type": "code",
   "execution_count": 2,
   "metadata": {},
   "outputs": [],
   "source": [
    "# Graphs are created using Python's default dictionary.\n",
    "\n",
    "from collections import defaultdict\n",
    "graph = defaultdict(list)\n",
    "\n",
    "# Define the function to add edges to the graph:\n",
    "def addEdge(graph, u, v):\n",
    "    graph[u].append(v)"
   ]
  },
  {
   "cell_type": "code",
   "execution_count": 3,
   "metadata": {},
   "outputs": [],
   "source": [
    "# We created the following list of 40 random cities (including Singapore as it is a city-nation): \n",
    "\n",
    "city_list = [\"Singapore\", \"Bombay\", \"Kuala Lumpur\", \"Jakarta\", \"Bangkok\", \"Beijing\", \"Shanghai\", \"Seoul\",\\\n",
    "             \"Hong Kong\", \"Tokyo\", \"Sydney\", \"Perth\", \"New Zealand\", \"Washington D.C.\", \"New York\", \"Los Angeles\",\\\n",
    "             \"Chicago\", \"Seattle\", \"Boston\", \"London\", \"Amsterdam\", \"Berlin\", \"Copenhagen\", \"Moscow\",\\\n",
    "             \"Paris\",\"Rome\", \"Toronto\", \"Cairo\", \"Istanbul\", \"Dubai\", \"Madrid\", \"Las Vegas\",\\\n",
    "             \"Prague\", \"Budapest\", \"Munich\", \"Zurich\", \"Vancouver\", \"Melbourne\", \"Rio De Janeiro\", \"Frankfurt\"]"
   ]
  },
  {
   "cell_type": "code",
   "execution_count": 4,
   "metadata": {},
   "outputs": [],
   "source": [
    "# The CreateGraph function creates a graph where non-stop flights (edges) are created between random cities (vertices):\n",
    "# The new city list contains the first 'n' cities from our full list of cities, n = no. of cities specified by user.\n",
    "\n",
    "def CreateGraph(graph, num_vertices, num_edges):\n",
    "    G = nx.Graph()\n",
    "    x = 0\n",
    "    # req_num_edges = math.floor(n * (n - 1) * 0.25)\n",
    "    while x <= num_edges:\n",
    "        city_list1 = city_list[ : num_vertices]\n",
    "        u = random.choice(city_list1)\n",
    "        v = random.choice(city_list1)\n",
    "        G.add_node(u)\n",
    "        G.add_node(v)\n",
    "        \n",
    "        while(v == u):\n",
    "            v = random.choice(city_list1)\n",
    "        \n",
    "        if v not in graph[u]:\n",
    "            addEdge(graph, u, v)\n",
    "            G.add_edge(u, v)\n",
    "\n",
    "        if u not in graph[v]:\n",
    "            addEdge(graph, v, u)\n",
    "            G.add_edge(v, u)\n",
    "\n",
    "        x += 1\n",
    "    \n",
    "    print(\"Nodes of graph: \")\n",
    "    print(G.nodes())\n",
    "    print(\"Edges of graph: \")\n",
    "    print(G.edges())\n",
    "    nx.draw(G)\n",
    "    plt.savefig(\"simple_path.png\") # save as png\n",
    "    plt.show()"
   ]
  },
  {
   "cell_type": "code",
   "execution_count": 5,
   "metadata": {},
   "outputs": [],
   "source": [
    "# The following is the function for the BFS algorithm:\n",
    "\n",
    "def BFS(graph, source, destination):\n",
    "    marked_vertices = []    # Array of all marked vertices\n",
    "    queue = [[source]]      # Put source vertex into an empty Queue\n",
    "\n",
    "    if source == destination:\n",
    "        print(\"Source is same as Destination\")\n",
    "        return\n",
    "\n",
    "    while queue:                # Loops while the Queue is not Empty\n",
    "        path = queue.pop(0)     \n",
    "        vertex = path[-1]  \n",
    "        if vertex not in marked_vertices:\n",
    "            neighbours = graph[vertex]    # For an unmarked vertex, the neighbouring vertices are now traversed through\n",
    "            for neighbour_vertex in neighbours:\n",
    "                new_path = list(path)\n",
    "                new_path.append(neighbour_vertex)\n",
    "                queue.append(new_path)\n",
    "                if neighbour_vertex == destination:\n",
    "                    return new_path       # This is the final path that is returned\n",
    "\n",
    "            # The vertex is now added (appended) to the array of marked vertices\n",
    "            marked_vertices.append(vertex)\n",
    "\n",
    "    \n",
    "    return \"Error: Path does not exist for chosen source and destination.\""
   ]
  },
  {
   "cell_type": "code",
   "execution_count": 16,
   "metadata": {},
   "outputs": [
    {
     "name": "stdout",
     "output_type": "stream",
     "text": [
      "The length of our complete city list is:  40\n",
      "Enter the number of cities you want to add to the graph (max 40): 40\n",
      "Enter the number of flights you want to add: 100\n",
      "\n",
      "List of Cities:\n",
      "1 Singapore\n",
      "2 Bombay\n",
      "3 Kuala Lumpur\n",
      "4 Jakarta\n",
      "5 Bangkok\n",
      "6 Beijing\n",
      "7 Shanghai\n",
      "8 Seoul\n",
      "9 Hong Kong\n",
      "10 Tokyo\n",
      "11 Sydney\n",
      "12 Perth\n",
      "13 New Zealand\n",
      "14 Washington D.C.\n",
      "15 New York\n",
      "16 Los Angeles\n",
      "17 Chicago\n",
      "18 Seattle\n",
      "19 Boston\n",
      "20 London\n",
      "21 Amsterdam\n",
      "22 Berlin\n",
      "23 Copenhagen\n",
      "24 Moscow\n",
      "25 Paris\n",
      "26 Rome\n",
      "27 Toronto\n",
      "28 Cairo\n",
      "29 Istanbul\n",
      "30 Dubai\n",
      "31 Madrid\n",
      "32 Las Vegas\n",
      "33 Prague\n",
      "34 Budapest\n",
      "35 Munich\n",
      "36 Zurich\n",
      "37 Vancouver\n",
      "38 Melbourne\n",
      "39 Rio De Janeiro\n",
      "40 Frankfurt\n",
      "Nodes of graph: \n",
      "['Chicago', 'Munich', 'New York', 'Vancouver', 'Bangkok', 'Zurich', 'Toronto', 'Boston', 'Budapest', 'Washington D.C.', 'Bombay', 'Seoul', 'Los Angeles', 'Frankfurt', 'Melbourne', 'Hong Kong', 'Perth', 'Singapore', 'Rio De Janeiro', 'London', 'Paris', 'New Zealand', 'Las Vegas', 'Moscow', 'Prague', 'Kuala Lumpur', 'Jakarta', 'Seattle', 'Rome', 'Sydney', 'Shanghai', 'Cairo', 'Beijing', 'Madrid', 'Istanbul', 'Dubai', 'Copenhagen', 'Berlin', 'Tokyo', 'Amsterdam']\n",
      "Edges of graph: \n",
      "[('Chicago', 'Munich'), ('Chicago', 'Zurich'), ('Munich', 'Zurich'), ('Munich', 'Seoul'), ('Munich', 'Moscow'), ('Munich', 'New Zealand'), ('New York', 'Vancouver'), ('New York', 'Rio De Janeiro'), ('New York', 'Kuala Lumpur'), ('New York', 'Prague'), ('Vancouver', 'Toronto'), ('Vancouver', 'Seoul'), ('Vancouver', 'London'), ('Vancouver', 'Singapore'), ('Vancouver', 'Cairo'), ('Vancouver', 'Bombay'), ('Vancouver', 'Copenhagen'), ('Bangkok', 'Melbourne'), ('Zurich', 'Las Vegas'), ('Zurich', 'Bombay'), ('Zurich', 'Seattle'), ('Zurich', 'Prague'), ('Zurich', 'Budapest'), ('Toronto', 'Frankfurt'), ('Boston', 'Las Vegas'), ('Budapest', 'Berlin'), ('Washington D.C.', 'Rio De Janeiro'), ('Bombay', 'New Zealand'), ('Bombay', 'Frankfurt'), ('Bombay', 'Seattle'), ('Seoul', 'Las Vegas'), ('Seoul', 'London'), ('Seoul', 'Perth'), ('Seoul', 'Istanbul'), ('Seoul', 'Paris'), ('Los Angeles', 'Moscow'), ('Los Angeles', 'Prague'), ('Frankfurt', 'Kuala Lumpur'), ('Frankfurt', 'Moscow'), ('Melbourne', 'Cairo'), ('Hong Kong', 'Perth'), ('Hong Kong', 'Beijing'), ('Hong Kong', 'Madrid'), ('Hong Kong', 'Prague'), ('Perth', 'Istanbul'), ('Perth', 'Berlin'), ('Singapore', 'Jakarta'), ('London', 'Rome'), ('New Zealand', 'Madrid'), ('Moscow', 'Tokyo'), ('Prague', 'Kuala Lumpur'), ('Seattle', 'Madrid'), ('Shanghai', 'Dubai'), ('Shanghai', 'Copenhagen'), ('Beijing', 'Madrid'), ('Madrid', 'Amsterdam')]\n"
     ]
    },
    {
     "data": {
      "image/png": "[encoded data removed]",
      "text/plain": [
       "<Figure size 432x288 with 1 Axes>"
      ]
     },
     "metadata": {},
     "output_type": "display_data"
    },
    {
     "name": "stdout",
     "output_type": "stream",
     "text": [
      "Which city do you want to select as source?\n",
      "Cairo\n",
      "\n",
      "Which city do you want to select as destination?\n",
      "Frankfurt\n",
      "\n",
      "Shortest path:  ['Cairo', 'Chicago', 'Frankfurt']\n",
      "\n",
      "CPU Time:  0.2789497375488281  milliseconds\n"
     ]
    }
   ],
   "source": [
    "print(\"The length of our complete city list is: \", len(city_list))\n",
    "num_cities = int(input(\"Enter the number of cities you want to add to the graph (max 40): \"))\n",
    "num_flights = int(input(\"Enter the number of flights you want to add: \"))\n",
    "\n",
    "print(\"\\nList of Cities:\")\n",
    "for i in range(num_cities):\n",
    "    print(i + 1, city_list[i])\n",
    "\n",
    "CreateGraph(graph, num_cities, num_flights) # The graph is created.\n",
    "\n",
    "source = input(\"Which city do you want to select as source?\\n\")\n",
    "destination = input(\"\\nWhich city do you want to select as destination?\\n\")\n",
    "\n",
    "start_time = time.time()\n",
    "answer = BFS(graph, source, destination)\n",
    "#time.sleep(3)\n",
    "time_taken = (time.time() - start_time)\n",
    "\n",
    "print(\"\\nShortest path: \", answer)\n",
    "print(\"\\nCPU Time: \", time_taken * 1000, \" milliseconds\")"
   ]
  },
  {
   "cell_type": "code",
   "execution_count": null,
   "metadata": {},
   "outputs": [],
   "source": []
  },
  {
   "cell_type": "code",
   "execution_count": null,
   "metadata": {},
   "outputs": [],
   "source": []
  },
  {
   "cell_type": "code",
   "execution_count": null,
   "metadata": {},
   "outputs": [],
   "source": []
  }
 ],
 "metadata": {
  "kernelspec": {
   "display_name": "Python 3",
   "language": "python",
   "name": "python3"
  },
  "language_info": {
   "codemirror_mode": {
    "name": "ipython",
    "version": 3
   },
   "file_extension": ".py",
   "mimetype": "text/x-python",
   "name": "python",
   "nbconvert_exporter": "python",
   "pygments_lexer": "ipython3",
   "version": "3.7.1"
  }
 },
 "nbformat": 4,
 "nbformat_minor": 2
}
