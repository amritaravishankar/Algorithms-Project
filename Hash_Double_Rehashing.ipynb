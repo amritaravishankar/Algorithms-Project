{
  "nbformat": 4,
  "nbformat_minor": 0,
  "metadata": {
    "colab": {
      "name": "Hash_Double_Rehashing",
      "provenance": []
    },
    "kernelspec": {
      "name": "python3",
      "display_name": "Python 3"
    }
  },
  "cells": [
    {
      "cell_type": "markdown",
      "metadata": {
        "id": "VkqjpuMGkyTy",
        "colab_type": "text"
      },
      "source": [
        "## Importing the required packages"
      ]
    },
    {
      "cell_type": "code",
      "metadata": {
        "id": "qoTTbkhuk06N",
        "colab_type": "code",
        "colab": {}
      },
      "source": [
        "import random\n",
        "import pandas as pd\n",
        "import pylab as pl\n",
        "import numpy as np\n",
        "import time\n",
        "import math"
      ],
      "execution_count": 0,
      "outputs": []
    },
    {
      "cell_type": "markdown",
      "metadata": {
        "id": "KWNy4DEnk_wK",
        "colab_type": "text"
      },
      "source": [
        "## About the dataset: (Synthetic)\n",
        "#### Library dataset with the ID's of the students stored who enter the library through the E-Gates.\n",
        "We convert the dataset from a Panda's dataframe to an Array using numpy. The integer values are stored in the array called \"Hash_values\".\n",
        "\n",
        "There are 1068 entries (number of values to be hashed 'n'). As we are considering Open Address hashing, we do not want load factor (n/h, where 'h' is the size of the hash table) to ever exceed 1. Therefore, we choose a prime near the value of n and greater than it. Therefore, h = 1069, which is define as \"hash_size\"."
      ]
    },
    {
      "cell_type": "markdown",
      "metadata": {
        "id": "VvqwJ3RglxnC",
        "colab_type": "text"
      },
      "source": [
        "## Reading and cleaning of the dataset "
      ]
    },
    {
      "cell_type": "code",
      "metadata": {
        "id": "s04QV6X4l5Zz",
        "colab_type": "code",
        "colab": {
          "base_uri": "https://localhost:8080/",
          "height": 34
        },
        "cellView": "both",
        "outputId": "86966dcc-6bab-4435-8b1d-b1bfda83c965"
      },
      "source": [
        "#@title\n",
        "url = 'https://raw.githubusercontent.com/arjunmann73/Machine-Learning/master/Regression/Simple%20Multivariate%20Linear%20Regression/FuelConsumption.csv'\n",
        "csv_data = pd.read_csv(url)\n",
        "data = csv_data[\"CO2EMISSIONS\"]\n",
        "Hash_values = np.asanyarray(data)\n",
        "data = csv_data[\"CO2EMISSIONS\"]\n",
        "Hash_values = np.asanyarray(data)\n",
        "Hash_values = Hash_values*10\n",
        "len(Hash_values)"
      ],
      "execution_count": 73,
      "outputs": [
        {
          "output_type": "execute_result",
          "data": {
            "text/plain": [
              "1067"
            ]
          },
          "metadata": {
            "tags": []
          },
          "execution_count": 73
        }
      ]
    },
    {
      "cell_type": "markdown",
      "metadata": {
        "id": "nCUAk9GcmuKi",
        "colab_type": "text"
      },
      "source": [
        "## Creating the hash tables\n",
        "---\n",
        "We create 2 hash tables to check and compare different rehashing functions. In this lab, we will be looking at:\n",
        "### - Folding method of rehashing (hash_table_double1)\n",
        "### - Congruential method of rehashing (hash_table_double2)\n",
        "\n"
      ]
    },
    {
      "cell_type": "code",
      "metadata": {
        "id": "iARXHcpCopDk",
        "colab_type": "code",
        "colab": {}
      },
      "source": [
        "hash_table_double1 = [None] * 1069\n",
        "hash_table_double2 = [None] * 1069\n",
        "hash_size = 1069"
      ],
      "execution_count": 0,
      "outputs": []
    },
    {
      "cell_type": "markdown",
      "metadata": {
        "id": "b15QQPeuo8xR",
        "colab_type": "text"
      },
      "source": [
        "## Defining the Auxiliary hash function and the rehashing functions"
      ]
    },
    {
      "cell_type": "code",
      "metadata": {
        "id": "eJvpRvSbpEWL",
        "colab_type": "code",
        "colab": {}
      },
      "source": [
        "def Auxiliary(k):\n",
        "    return (k % hash_size)\n",
        "\n",
        "def Folding(k):\n",
        "    k = k*k\n",
        "    c = bin(k)\n",
        "    c = c[2:]\n",
        "    c = c[0:5] + c[len(c)-5]\n",
        "    c = int(c)\n",
        "    return c\n",
        "\n",
        "def Congruential(k):\n",
        "  a = 6 * math.floor(hash_size/29) + 7 \n",
        "  return (a*k)%hash_size"
      ],
      "execution_count": 0,
      "outputs": []
    },
    {
      "cell_type": "code",
      "metadata": {
        "id": "QDgODLRhpQSa",
        "colab_type": "code",
        "colab": {}
      },
      "source": [
        "def Hash_Folding(k, i):\n",
        "    return (Auxiliary(k) + i*Folding(k)) % hash_size\n",
        "\n",
        "def Hash_Congruential(k, i):\n",
        "    return (Auxiliary(k) + i*Congruential(k)) % hash_size"
      ],
      "execution_count": 0,
      "outputs": []
    },
    {
      "cell_type": "markdown",
      "metadata": {
        "id": "caHuIDCjpal3",
        "colab_type": "text"
      },
      "source": [
        "## 1) Folding Method\n",
        "---\n",
        "#### a) Insertion of elements in the hash table\n",
        "\n"
      ]
    },
    {
      "cell_type": "code",
      "metadata": {
        "id": "j3mOnAR2pnIJ",
        "colab_type": "code",
        "colab": {}
      },
      "source": [
        "def hash_double_fold(key):\n",
        "    i = 0 \n",
        "    while(i != 1068):\n",
        "        j = Hash_Folding(key, i)\n",
        "        if(hash_table_double1[j] == None):\n",
        "            hash_table_double1[j] = key;\n",
        "            #print(j, key)\n",
        "            return \n",
        "        else:\n",
        "            i += 1\n",
        "    print(\"Overflow\")"
      ],
      "execution_count": 0,
      "outputs": []
    },
    {
      "cell_type": "markdown",
      "metadata": {
        "id": "2xe7kqJopsB_",
        "colab_type": "text"
      },
      "source": [
        "#### b) Searching an element in the hash table"
      ]
    },
    {
      "cell_type": "code",
      "metadata": {
        "id": "EKZQjSLxpxM5",
        "colab_type": "code",
        "colab": {}
      },
      "source": [
        "def lookup_folding(val):\n",
        "    code = Auxiliary(val)\n",
        "    loc = code\n",
        "    flag = 0\n",
        "    i = 0\n",
        "    while(hash_table_double1[loc] != None):\n",
        "        if(hash_table_double1[loc] == val):\n",
        "            flag = 1\n",
        "            break;\n",
        "        else:\n",
        "            i+=1\n",
        "            loc = Hash_Folding(val, i)\n",
        "            if(loc == code):\n",
        "                break;\n",
        "    #print(\"Number of key comparisions: \", i+1)\n",
        "    return [i+1, flag]"
      ],
      "execution_count": 0,
      "outputs": []
    },
    {
      "cell_type": "markdown",
      "metadata": {
        "id": "Vz0FI9rip-8g",
        "colab_type": "text"
      },
      "source": [
        "### Load Factor ≅ 1"
      ]
    },
    {
      "cell_type": "code",
      "metadata": {
        "id": "8iAYroqip_8S",
        "colab_type": "code",
        "colab": {}
      },
      "source": [
        "for j in range(1067):\n",
        "    hash_double_fold(Hash_values[j])"
      ],
      "execution_count": 0,
      "outputs": []
    },
    {
      "cell_type": "markdown",
      "metadata": {
        "id": "7Jr0tqsUqP1o",
        "colab_type": "text"
      },
      "source": [
        "#### Time Analysis and Number of Key Comparisions for Load Factor ≅ 1"
      ]
    },
    {
      "cell_type": "code",
      "metadata": {
        "id": "ZN-C7RWCqGyA",
        "colab_type": "code",
        "colab": {
          "base_uri": "https://localhost:8080/",
          "height": 85
        },
        "outputId": "5d0f1bca-7674-4037-e9f1-b2e1a6e11b93"
      },
      "source": [
        "#val = (int)(input(\"Enter value to be searched: \"))\n",
        "\n",
        "\n",
        "value_success = []\n",
        "value_fail = []\n",
        "comparisions_success = []\n",
        "comparisions_fail = []\n",
        "time_taken_success = []\n",
        "time_taken_fail = []\n",
        "\n",
        "for x in range(10000):\n",
        "  \n",
        "  j = random.randint(180,420)\n",
        "  j = j*10\n",
        "  \n",
        "  start_time = time.time()\n",
        "  a = lookup_folding(j)\n",
        "  \n",
        "  temp = (time.time() - start_time)*1000\n",
        "  \n",
        "  if(a[1]):\n",
        "    comparisions_success.append(a[0])\n",
        "    time_taken_success.append(temp)\n",
        "    value_success.append(j)\n",
        "    \n",
        "  else:\n",
        "    comparisions_fail.append(a[0])\n",
        "    time_taken_fail.append(temp)\n",
        "    value_fail.append(j)\n",
        "\n",
        "'''  \n",
        "print(\"Successful Searches: \" , len(value_success))\n",
        "for i in range(len(value_success)):\n",
        "  print(\"Value: \" , value_success[i] , \" Number of comparisions: \", comparisions_success[i] , \" Time taken: \", time_taken_success[i])\n",
        "  \n",
        "\n",
        "print(\"Unsuccessful Searches: \" , len(value_fail))\n",
        "for i in range(len(value_fail)):\n",
        "  print(\"Value: \" , value_fail[i] , \" Number of comparisions: \", comparisions_fail[i] , \" Time taken: \", time_taken_fail[i])\n",
        "'''\n",
        "\n",
        "print(\"Successful Searches: \" , len(value_success))\n",
        "print(\"Average Comparisions: \" , sum(comparisions_success)/len(comparisions_success) , \" Average time taken in milliseconds: \" , (sum(time_taken_success)/len(time_taken_success))*1000)\n",
        "print(\"Unsuccessful Searches: \", len(value_fail))\n",
        "print(\"Average Comparisions: \" , sum(comparisions_fail)/len(comparisions_fail) , \" Average time taken in milliseconds: \" , (sum(time_taken_fail)/len(time_taken_fail))*1000)"
      ],
      "execution_count": 80,
      "outputs": [
        {
          "output_type": "stream",
          "text": [
            "Successful Searches:  5284\n",
            "Average Comparisions:  1.9659348978046933  Average time taken in milliseconds:  2.450874409469847\n",
            "Unsuccessful Searches:  4716\n",
            "Average Comparisions:  335.91200169635283  Average time taken in milliseconds:  466.2669139761759\n"
          ],
          "name": "stdout"
        }
      ]
    },
    {
      "cell_type": "markdown",
      "metadata": {
        "id": "hW2V53S2rCDZ",
        "colab_type": "text"
      },
      "source": [
        "### Load Factor ≅ 0.75"
      ]
    },
    {
      "cell_type": "code",
      "metadata": {
        "id": "wo1itdkyrDaC",
        "colab_type": "code",
        "colab": {}
      },
      "source": [
        "hash_table_double1 = [None] * 1069\n",
        "for j in range(802):\n",
        "    hash_double_fold(Hash_values[j])"
      ],
      "execution_count": 0,
      "outputs": []
    },
    {
      "cell_type": "markdown",
      "metadata": {
        "id": "LTry6j4PrcrI",
        "colab_type": "text"
      },
      "source": [
        "#### Time Analysis and Number of Key Comparisions for Load Factor ≅ 0.75"
      ]
    },
    {
      "cell_type": "code",
      "metadata": {
        "id": "GP98Z8URrIU3",
        "colab_type": "code",
        "colab": {
          "base_uri": "https://localhost:8080/",
          "height": 85
        },
        "outputId": "da8abcfc-0aef-4c83-b57b-47a7967d2002"
      },
      "source": [
        "#val = (int)(input(\"Enter value to be searched: \"))\n",
        "\n",
        "\n",
        "value_success = []\n",
        "value_fail = []\n",
        "comparisions_success = []\n",
        "comparisions_fail = []\n",
        "time_taken_success = []\n",
        "time_taken_fail = []\n",
        "\n",
        "for x in range(10000):\n",
        "  \n",
        "  j = random.randint(180,420)\n",
        "  j = j*10\n",
        "  \n",
        "  start_time = time.time()\n",
        "  a = lookup_folding(j)\n",
        "  \n",
        "  temp = (time.time() - start_time)*1000\n",
        "  \n",
        "  if(a[1]):\n",
        "    comparisions_success.append(a[0])\n",
        "    time_taken_success.append(temp)\n",
        "    value_success.append(j)\n",
        "    \n",
        "  else:\n",
        "    comparisions_fail.append(a[0])\n",
        "    time_taken_fail.append(temp)\n",
        "    value_fail.append(j)\n",
        "\n",
        "'''  \n",
        "print(\"Successful Searches: \" , len(value_success))\n",
        "for i in range(len(value_success)):\n",
        "  print(\"Value: \" , value_success[i] , \" Number of comparisions: \", comparisions_success[i] , \" Time taken: \", time_taken_success[i])\n",
        "  \n",
        "\n",
        "print(\"Unsuccessful Searches: \" , len(value_fail))\n",
        "for i in range(len(value_fail)):\n",
        "  print(\"Value: \" , value_fail[i] , \" Number of comparisions: \", comparisions_fail[i] , \" Time taken: \", time_taken_fail[i])\n",
        "'''\n",
        "\n",
        "print(\"Successful Searches: \" , len(value_success))\n",
        "print(\"Average Comparisions: \" , sum(comparisions_success)/len(comparisions_success) , \" Average time taken in milliseconds: \" , (sum(time_taken_success)/len(time_taken_success))*1000)\n",
        "print(\"Unsuccessful Searches: \", len(value_fail))\n",
        "print(\"Average Comparisions: \" , sum(comparisions_fail)/len(comparisions_fail) , \" Average time taken in milliseconds: \" , (sum(time_taken_fail)/len(time_taken_fail))*1000)"
      ],
      "execution_count": 82,
      "outputs": [
        {
          "output_type": "stream",
          "text": [
            "Successful Searches:  5071\n",
            "Average Comparisions:  1.2324985210017747  Average time taken in milliseconds:  1.4170648736188314\n",
            "Unsuccessful Searches:  4929\n",
            "Average Comparisions:  4.545343883140596  Average time taken in milliseconds:  5.9851818429115315\n"
          ],
          "name": "stdout"
        }
      ]
    },
    {
      "cell_type": "markdown",
      "metadata": {
        "id": "Iii-IjgvsJxP",
        "colab_type": "text"
      },
      "source": [
        "## Multiplicative Congruential Method\n",
        "\n",
        "---\n",
        "#### a) Insertion of elements in the hash table\n"
      ]
    },
    {
      "cell_type": "code",
      "metadata": {
        "id": "F6CyPTNBsOtf",
        "colab_type": "code",
        "colab": {}
      },
      "source": [
        "def hash_double_congruential(key):\n",
        "    i = 0\n",
        "    while(i != 1068):\n",
        "        j = Hash_Congruential(key, i)\n",
        "        if(hash_table_double2[j] == None):\n",
        "            hash_table_double2[j] = key;\n",
        "            #print(j, key)\n",
        "            return \n",
        "        else:\n",
        "            i += 1\n",
        "    #print(\"Number of key comparisions: \", i+1)\n",
        "    print(\"Overflow\")"
      ],
      "execution_count": 0,
      "outputs": []
    },
    {
      "cell_type": "markdown",
      "metadata": {
        "id": "gO4fgRZJsUhH",
        "colab_type": "text"
      },
      "source": [
        "#### b) Searching an element in the hash table"
      ]
    },
    {
      "cell_type": "code",
      "metadata": {
        "id": "VGMyWVEzsXXZ",
        "colab_type": "code",
        "colab": {}
      },
      "source": [
        "def lookup2(val):\n",
        "    code = Auxiliary(val)\n",
        "    loc = code\n",
        "    flag = 0\n",
        "    i = 0\n",
        "    while(hash_table_double2[loc] != None):\n",
        "        if(hash_table_double2[loc] == val):\n",
        "            #print(\"Succesful\")\n",
        "            flag = 1\n",
        "            break;\n",
        "        else:\n",
        "            i+=1\n",
        "            loc = Hash_Congruential(val, i)\n",
        "            if(loc == code):\n",
        "                break;\n",
        "    #print(\"Number of key comparisions: \", i+1)\n",
        "    #if(flag==0):\n",
        "        #print(\"Number does not exist in the table\")\n",
        "    return (i+1)"
      ],
      "execution_count": 0,
      "outputs": []
    },
    {
      "cell_type": "markdown",
      "metadata": {
        "id": "OP8Yn6ZTsZvS",
        "colab_type": "text"
      },
      "source": [
        "### Load Factor ≅ 1"
      ]
    },
    {
      "cell_type": "code",
      "metadata": {
        "id": "EOYuZBqqsaNJ",
        "colab_type": "code",
        "colab": {}
      },
      "source": [
        "for j in range(1067):\n",
        "    hash_double_congruential(Hash_values[j])"
      ],
      "execution_count": 0,
      "outputs": []
    },
    {
      "cell_type": "markdown",
      "metadata": {
        "id": "SVjhWHoEscNC",
        "colab_type": "text"
      },
      "source": [
        "#### Time Analysis and Number of Key Comparisions for Load Factor ≅ 1"
      ]
    },
    {
      "cell_type": "code",
      "metadata": {
        "id": "cYRIqWnVscng",
        "colab_type": "code",
        "colab": {
          "base_uri": "https://localhost:8080/",
          "height": 85
        },
        "outputId": "502955ba-7468-483d-b11b-fa4965d1a608"
      },
      "source": [
        "sum_cpu_fail = 0\n",
        "sum_comparisons_fail = 0\n",
        "cpu_time_fail = 0\n",
        "\n",
        "for x in range(10000):\n",
        "    val = random.randint(5000, 9999)\n",
        "    #print(\"Value: \", val)\n",
        "    start_time = time.time()\n",
        "    sum_comparisons_fail += lookup2(val)\n",
        "    cpu_time_fail = (1000 * (time.time() - start_time))\n",
        "    sum_cpu_fail += cpu_time_fail\n",
        "    #print(\"CPU time taken: \" , cpu_time_fail, \"milliseconds\")\n",
        "    \n",
        "average_cpu_time_fail = sum_cpu_fail / 10000\n",
        "average_comparisons_fail = sum_comparisons_fail / 10000\n",
        "#print(\"\\nFor unsuccesful searches:\")\n",
        "#print(\"Average CPU time: \",average_cpu_time_fail, \"milliseconds\")\n",
        "#print(\"Average no. of comparisons: \",average_comparisons_fail)\n",
        "\n",
        "sum_cpu_success = 0\n",
        "sum_comparisons_success = 0\n",
        "cpu_time_success = 0\n",
        "\n",
        "for x in range(10000):\n",
        "    val = random.choice(Hash_values)\n",
        "    #print(\"Value: \", val)\n",
        "    start_time = time.time()\n",
        "    sum_comparisons_success += lookup2(val)\n",
        "    cpu_time_success = (1000 * (time.time() - start_time))\n",
        "    sum_cpu_success += cpu_time_success\n",
        "    #print(\"CPU time taken: \" , cpu_time, \"milliseconds\")\n",
        "    \n",
        "average_cpu_time_success = sum_cpu_success / 10000\n",
        "average_comparisons_success = sum_comparisons_success / 10000\n",
        "#print(\"\\nFor succesful searches:\")\n",
        "#print(\"Average CPU time: \",average_cpu_time_success, \"milliseconds\")\n",
        "#print(\"Average no. of comparisons: \",average_comparisons_success)\n",
        "\n",
        "print(\"Successful Searches:\")\n",
        "print(\"Average Comparisions: \", average_comparisons_success, \" Average time taken in milliseconds: \", average_cpu_time_success)\n",
        "print(\"Unsuccessful Searches:\")\n",
        "print(\"Average Comparisions: \", average_comparisons_fail, \" Average time taken in milliseconds: \", average_cpu_time_fail)"
      ],
      "execution_count": 86,
      "outputs": [
        {
          "output_type": "stream",
          "text": [
            "Successful Searches:\n",
            "Average Comparisions:  1.2809  Average time taken in milliseconds:  0.0016045570373535156\n",
            "Unsuccessful Searches:\n",
            "Average Comparisions:  359.193  Average time taken in milliseconds:  0.36941919326782224\n"
          ],
          "name": "stdout"
        }
      ]
    },
    {
      "cell_type": "markdown",
      "metadata": {
        "id": "ohJomTIHse1P",
        "colab_type": "text"
      },
      "source": [
        "### Load Factor ≅ 0.75"
      ]
    },
    {
      "cell_type": "code",
      "metadata": {
        "id": "jZeCkcU0sfS5",
        "colab_type": "code",
        "colab": {}
      },
      "source": [
        "hash_table_double2 = [None] * 1069\n",
        "for j in range(802):\n",
        "    hash_double_congruential(Hash_values[j])"
      ],
      "execution_count": 0,
      "outputs": []
    },
    {
      "cell_type": "markdown",
      "metadata": {
        "id": "oMvf3-aTsg73",
        "colab_type": "text"
      },
      "source": [
        "#### Time Analysis and Number of Key Comparisions for Load Factor ≅ 0.75"
      ]
    },
    {
      "cell_type": "code",
      "metadata": {
        "id": "bFas1sm6shXJ",
        "colab_type": "code",
        "colab": {
          "base_uri": "https://localhost:8080/",
          "height": 85
        },
        "outputId": "1f6195ba-e67c-4fe2-c68f-a0135c88ff05"
      },
      "source": [
        "sum_cpu_fail = 0\n",
        "sum_comparisons_fail = 0\n",
        "cpu_time_fail = 0\n",
        "\n",
        "for x in range(10000):\n",
        "    val = random.randint(5000, 9999)\n",
        "    #print(\"Value: \", val)\n",
        "    start_time = time.time()\n",
        "    sum_comparisons_fail += lookup2(val)\n",
        "    cpu_time_fail = (1000 * (time.time() - start_time))\n",
        "    sum_cpu_fail += cpu_time_fail\n",
        "    #print(\"CPU time taken: \" , cpu_time_fail, \"milliseconds\")\n",
        "    \n",
        "average_cpu_time_fail = sum_cpu_fail / 10000\n",
        "average_comparisons_fail = sum_comparisons_fail / 10000\n",
        "#print(\"\\nFor unsuccesful searches:\")\n",
        "#print(\"Average CPU time: \",average_cpu_time_fail, \"milliseconds\")\n",
        "#print(\"Average no. of comparisons: \",average_comparisons_fail)\n",
        "\n",
        "sum_cpu_success = 0\n",
        "sum_comparisons_success = 0\n",
        "cpu_time_success = 0\n",
        "\n",
        "for x in range(10000):\n",
        "    val = random.choice(Hash_values)\n",
        "    #print(\"Value: \", val)\n",
        "    start_time = time.time()\n",
        "    sum_comparisons_success += lookup2(val)\n",
        "    cpu_time_success = (1000 * (time.time() - start_time))\n",
        "    sum_cpu_success += cpu_time_success\n",
        "    #print(\"CPU time taken: \" , cpu_time, \"milliseconds\")\n",
        "    \n",
        "average_cpu_time_success = sum_cpu_success / 10000\n",
        "average_comparisons_success = sum_comparisons_success / 10000\n",
        "#print(\"\\nFor succesful searches:\")\n",
        "#print(\"Average CPU time: \",average_cpu_time_success, \"milliseconds\")\n",
        "#print(\"Average no. of comparisons: \",average_comparisons_success)\n",
        "\n",
        "print(\"Successful Searches:\")\n",
        "print(\"Average Comparisions: \", average_comparisons_success, \" Average time taken in milliseconds: \", average_cpu_time_success)\n",
        "print(\"Unsuccessful Searches:\")\n",
        "print(\"Average Comparisions: \", average_comparisons_fail, \" Average time taken in milliseconds: \", average_cpu_time_fail)"
      ],
      "execution_count": 88,
      "outputs": [
        {
          "output_type": "stream",
          "text": [
            "Successful Searches:\n",
            "Average Comparisions:  1.2042  Average time taken in milliseconds:  0.0014433622360229491\n",
            "Unsuccessful Searches:\n",
            "Average Comparisions:  4.9475  Average time taken in milliseconds:  0.005116724967956543\n"
          ],
          "name": "stdout"
        }
      ]
    }
  ]
}