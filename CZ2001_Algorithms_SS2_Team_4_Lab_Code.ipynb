{
 "cells": [
  {
   "cell_type": "markdown",
   "metadata": {
    "colab_type": "text",
    "id": "VkqjpuMGkyTy"
   },
   "source": [
    "## Importing the required packages"
   ]
  },
  {
   "cell_type": "code",
   "execution_count": 1,
   "metadata": {
    "colab": {},
    "colab_type": "code",
    "id": "qoTTbkhuk06N"
   },
   "outputs": [],
   "source": [
    "import random\n",
    "import pandas as pd\n",
    "import pylab as pl\n",
    "import numpy as np\n",
    "import time\n",
    "import math"
   ]
  },
  {
   "cell_type": "markdown",
   "metadata": {
    "colab_type": "text",
    "id": "KWNy4DEnk_wK"
   },
   "source": [
    "## About the dataset: (Synthetic)\n",
    "#### Library dataset with the ID's of the students stored who enter the library through the E-Gates.\n",
    "We convert the dataset from a Panda's dataframe to an Array using numpy. The integer values are stored in the array called \"Hash_values\".\n",
    "\n",
    "There are 1068 entries (number of values to be hashed 'n'). As we are considering Open Address hashing, we do not want load factor (n/h, where 'h' is the size of the hash table) to ever exceed 1. Therefore, we choose a prime near the value of n and greater than it. Therefore, h = 1069, which is define as \"hash_size\"."
   ]
  },
  {
   "cell_type": "markdown",
   "metadata": {
    "colab_type": "text",
    "id": "VvqwJ3RglxnC"
   },
   "source": [
    "## Reading and cleaning of the dataset "
   ]
  },
  {
   "cell_type": "code",
   "execution_count": 2,
   "metadata": {
    "cellView": "both",
    "colab": {
     "base_uri": "https://localhost:8080/",
     "height": 34
    },
    "colab_type": "code",
    "id": "s04QV6X4l5Zz",
    "outputId": "86966dcc-6bab-4435-8b1d-b1bfda83c965"
   },
   "outputs": [
    {
     "data": {
      "text/plain": [
       "1067"
      ]
     },
     "execution_count": 2,
     "metadata": {},
     "output_type": "execute_result"
    }
   ],
   "source": [
    "url = 'https://raw.githubusercontent.com/arjunmann73/Machine-Learning/master/Regression/Simple%20Multivariate%20Linear%20Regression/FuelConsumption.csv'\n",
    "csv_data = pd.read_csv(url)\n",
    "data = csv_data[\"CO2EMISSIONS\"]\n",
    "Hash_values = np.asanyarray(data)\n",
    "data = csv_data[\"CO2EMISSIONS\"]\n",
    "Hash_values = np.asanyarray(data)\n",
    "Hash_values = Hash_values*10\n",
    "len(Hash_values)"
   ]
  },
  {
   "cell_type": "markdown",
   "metadata": {
    "colab_type": "text",
    "id": "nCUAk9GcmuKi"
   },
   "source": [
    "## Creating the hash tables\n",
    "---\n",
    "We create 2 hash tables to check and compare different rehashing functions. In this lab, we will be looking at:\n",
    "### - Folding method of rehashing (hash_table_double1)\n",
    "### - Congruential method of rehashing (hash_table_double2)\n",
    "\n"
   ]
  },
  {
   "cell_type": "code",
   "execution_count": 3,
   "metadata": {
    "colab": {},
    "colab_type": "code",
    "id": "iARXHcpCopDk"
   },
   "outputs": [],
   "source": [
    "hash_table_double1 = [None] * 1069\n",
    "hash_table_double2 = [None] * 1069\n",
    "hash_size = 1069"
   ]
  },
  {
   "cell_type": "markdown",
   "metadata": {
    "colab_type": "text",
    "id": "b15QQPeuo8xR"
   },
   "source": [
    "## Defining the Auxiliary hash function and the rehashing functions"
   ]
  },
  {
   "cell_type": "code",
   "execution_count": 4,
   "metadata": {
    "colab": {},
    "colab_type": "code",
    "id": "eJvpRvSbpEWL"
   },
   "outputs": [],
   "source": [
    "def Auxiliary(k):\n",
    "    return (k % hash_size)\n",
    "\n",
    "def Folding(k):\n",
    "    k = k*k\n",
    "    c = bin(k)\n",
    "    c = c[2:]\n",
    "    c = c[0:5] + c[len(c)-5]\n",
    "    c = int(c)\n",
    "    return c\n",
    "\n",
    "def Congruential(k):\n",
    "  a = 6 * math.floor(hash_size/29) + 7 \n",
    "  return (a*k)%hash_size"
   ]
  },
  {
   "cell_type": "code",
   "execution_count": 5,
   "metadata": {
    "colab": {},
    "colab_type": "code",
    "id": "QDgODLRhpQSa"
   },
   "outputs": [],
   "source": [
    "def Hash_Folding(k, i):\n",
    "    return (Auxiliary(k) + i*Folding(k)) % hash_size\n",
    "\n",
    "def Hash_Congruential(k, i):\n",
    "    return (Auxiliary(k) + i*Congruential(k)) % hash_size"
   ]
  },
  {
   "cell_type": "markdown",
   "metadata": {
    "colab_type": "text",
    "id": "caHuIDCjpal3"
   },
   "source": [
    "## 1) Folding Method\n",
    "---\n",
    "#### a) Insertion of elements in the hash table\n",
    "\n"
   ]
  },
  {
   "cell_type": "code",
   "execution_count": 6,
   "metadata": {
    "colab": {},
    "colab_type": "code",
    "id": "j3mOnAR2pnIJ"
   },
   "outputs": [],
   "source": [
    "def hash_double_fold(key):\n",
    "    i = 0 \n",
    "    while(i != 1068):\n",
    "        j = Hash_Folding(key, i)\n",
    "        if(hash_table_double1[j] == None):\n",
    "            hash_table_double1[j] = key;\n",
    "            return \n",
    "        else:\n",
    "            i += 1\n",
    "    print(\"Overflow\")"
   ]
  },
  {
   "cell_type": "markdown",
   "metadata": {
    "colab_type": "text",
    "id": "2xe7kqJopsB_"
   },
   "source": [
    "#### b) Searching an element in the hash table"
   ]
  },
  {
   "cell_type": "code",
   "execution_count": 7,
   "metadata": {
    "colab": {},
    "colab_type": "code",
    "id": "EKZQjSLxpxM5"
   },
   "outputs": [],
   "source": [
    "def lookup_folding(val):\n",
    "    code = Auxiliary(val)\n",
    "    loc = code\n",
    "    flag = 0\n",
    "    i = 0\n",
    "    while(hash_table_double1[loc] != None):\n",
    "        if(hash_table_double1[loc] == val):\n",
    "            flag = 1\n",
    "            break;\n",
    "        else:\n",
    "            i+=1\n",
    "            loc = Hash_Folding(val, i)\n",
    "            if(loc == code):\n",
    "                break;\n",
    "    return [i+1, flag]"
   ]
  },
  {
   "cell_type": "markdown",
   "metadata": {
    "colab_type": "text",
    "id": "Vz0FI9rip-8g"
   },
   "source": [
    "### Load Factor ≅ 1"
   ]
  },
  {
   "cell_type": "code",
   "execution_count": 8,
   "metadata": {
    "colab": {},
    "colab_type": "code",
    "id": "8iAYroqip_8S"
   },
   "outputs": [],
   "source": [
    "for j in range(1067):\n",
    "    hash_double_fold(Hash_values[j])"
   ]
  },
  {
   "cell_type": "markdown",
   "metadata": {
    "colab_type": "text",
    "id": "7Jr0tqsUqP1o"
   },
   "source": [
    "#### Time Analysis and Number of Key Comparisions for Load Factor ≅ 1"
   ]
  },
  {
   "cell_type": "code",
   "execution_count": 9,
   "metadata": {
    "colab": {
     "base_uri": "https://localhost:8080/",
     "height": 85
    },
    "colab_type": "code",
    "id": "ZN-C7RWCqGyA",
    "outputId": "5d0f1bca-7674-4037-e9f1-b2e1a6e11b93"
   },
   "outputs": [
    {
     "name": "stdout",
     "output_type": "stream",
     "text": [
      "Successful Searches:  5373\n",
      "Average Comparisions:  1.9326260934301136  Average time taken in milliseconds:  3.147852968819066\n",
      "Unsuccessful Searches:  4627\n",
      "Average Comparisions:  340.7568618975578  Average time taken in milliseconds:  608.9336237795079\n"
     ]
    }
   ],
   "source": [
    "value_success = []\n",
    "value_fail = []\n",
    "comparisions_success = []\n",
    "comparisions_fail = []\n",
    "time_taken_success = []\n",
    "time_taken_fail = []\n",
    "\n",
    "for x in range(10000):\n",
    "  \n",
    "  j = random.randint(180,420)\n",
    "  j = j*10\n",
    "  \n",
    "  start_time = time.time()\n",
    "  a = lookup_folding(j)\n",
    "  \n",
    "  temp = (time.time() - start_time)*1000\n",
    "  \n",
    "  if(a[1]):\n",
    "    comparisions_success.append(a[0])\n",
    "    time_taken_success.append(temp)\n",
    "    value_success.append(j)\n",
    "    \n",
    "  else:\n",
    "    comparisions_fail.append(a[0])\n",
    "    time_taken_fail.append(temp)\n",
    "    value_fail.append(j)\n",
    "\n",
    "print(\"Successful Searches: \" , len(value_success))\n",
    "print(\"Average Comparisions: \" , sum(comparisions_success)/len(comparisions_success) , \" Average time taken in milliseconds: \" , (sum(time_taken_success)/len(time_taken_success))*1000)\n",
    "print(\"Unsuccessful Searches: \", len(value_fail))\n",
    "print(\"Average Comparisions: \" , sum(comparisions_fail)/len(comparisions_fail) , \" Average time taken in milliseconds: \" , (sum(time_taken_fail)/len(time_taken_fail))*1000)"
   ]
  },
  {
   "cell_type": "markdown",
   "metadata": {
    "colab_type": "text",
    "id": "hW2V53S2rCDZ"
   },
   "source": [
    "### Load Factor ≅ 0.75"
   ]
  },
  {
   "cell_type": "code",
   "execution_count": 10,
   "metadata": {
    "colab": {},
    "colab_type": "code",
    "id": "wo1itdkyrDaC"
   },
   "outputs": [],
   "source": [
    "hash_table_double1 = [None] * 1069\n",
    "for j in range(802):\n",
    "    hash_double_fold(Hash_values[j])"
   ]
  },
  {
   "cell_type": "markdown",
   "metadata": {
    "colab_type": "text",
    "id": "LTry6j4PrcrI"
   },
   "source": [
    "#### Time Analysis and Number of Key Comparisions for Load Factor ≅ 0.75"
   ]
  },
  {
   "cell_type": "code",
   "execution_count": 11,
   "metadata": {
    "colab": {
     "base_uri": "https://localhost:8080/",
     "height": 85
    },
    "colab_type": "code",
    "id": "GP98Z8URrIU3",
    "outputId": "da8abcfc-0aef-4c83-b57b-47a7967d2002"
   },
   "outputs": [
    {
     "name": "stdout",
     "output_type": "stream",
     "text": [
      "Successful Searches:  4957\n",
      "Average Comparisions:  1.2473270123058302  Average time taken in milliseconds:  3.6136022324953587\n",
      "Unsuccessful Searches:  5043\n",
      "Average Comparisions:  4.544715447154472  Average time taken in milliseconds:  8.914670654877817\n"
     ]
    }
   ],
   "source": [
    "value_success = []\n",
    "value_fail = []\n",
    "comparisions_success = []\n",
    "comparisions_fail = []\n",
    "time_taken_success = []\n",
    "time_taken_fail = []\n",
    "\n",
    "for x in range(10000):\n",
    "  \n",
    "  j = random.randint(180,420)\n",
    "  j = j*10\n",
    "  \n",
    "  start_time = time.time()\n",
    "  a = lookup_folding(j)\n",
    "  \n",
    "  temp = (time.time() - start_time)*1000\n",
    "  \n",
    "  if(a[1]):\n",
    "    comparisions_success.append(a[0])\n",
    "    time_taken_success.append(temp)\n",
    "    value_success.append(j)\n",
    "    \n",
    "  else:\n",
    "    comparisions_fail.append(a[0])\n",
    "    time_taken_fail.append(temp)\n",
    "    value_fail.append(j)\n",
    "\n",
    "print(\"Successful Searches: \" , len(value_success))\n",
    "print(\"Average Comparisions: \" , sum(comparisions_success)/len(comparisions_success) , \" Average time taken in milliseconds: \" , (sum(time_taken_success)/len(time_taken_success))*1000)\n",
    "print(\"Unsuccessful Searches: \", len(value_fail))\n",
    "print(\"Average Comparisions: \" , sum(comparisions_fail)/len(comparisions_fail) , \" Average time taken in milliseconds: \" , (sum(time_taken_fail)/len(time_taken_fail))*1000)"
   ]
  },
  {
   "cell_type": "markdown",
   "metadata": {},
   "source": [
    "### Load Factor ≅ 0.5"
   ]
  },
  {
   "cell_type": "code",
   "execution_count": 12,
   "metadata": {},
   "outputs": [],
   "source": [
    "hash_table_double1 = [None] * 1069\n",
    "for j in range(535):\n",
    "    hash_double_fold(Hash_values[j])"
   ]
  },
  {
   "cell_type": "markdown",
   "metadata": {},
   "source": [
    "#### Time Analysis and Number of Key Comparisions for Load Factor ≅ 0.5"
   ]
  },
  {
   "cell_type": "code",
   "execution_count": 13,
   "metadata": {},
   "outputs": [
    {
     "name": "stdout",
     "output_type": "stream",
     "text": [
      "Successful Searches:  4586\n",
      "Average Comparisions:  1.1140427387701701  Average time taken in milliseconds:  1.7444691281624356\n",
      "Unsuccessful Searches:  5414\n",
      "Average Comparisions:  1.820096047284817  Average time taken in milliseconds:  2.394226322237486\n"
     ]
    }
   ],
   "source": [
    "value_success = []\n",
    "value_fail = []\n",
    "comparisions_success = []\n",
    "comparisions_fail = []\n",
    "time_taken_success = []\n",
    "time_taken_fail = []\n",
    "\n",
    "for x in range(10000):\n",
    "  \n",
    "  j = random.randint(180,420)\n",
    "  j = j*10\n",
    "  \n",
    "  start_time = time.time()\n",
    "  a = lookup_folding(j)\n",
    "  \n",
    "  temp = (time.time() - start_time)*1000\n",
    "  \n",
    "  if(a[1]):\n",
    "    comparisions_success.append(a[0])\n",
    "    time_taken_success.append(temp)\n",
    "    value_success.append(j)\n",
    "    \n",
    "  else:\n",
    "    comparisions_fail.append(a[0])\n",
    "    time_taken_fail.append(temp)\n",
    "    value_fail.append(j)\n",
    "\n",
    "print(\"Successful Searches: \" , len(value_success))\n",
    "print(\"Average Comparisions: \" , sum(comparisions_success)/len(comparisions_success) , \" Average time taken in milliseconds: \" , (sum(time_taken_success)/len(time_taken_success))*1000)\n",
    "print(\"Unsuccessful Searches: \", len(value_fail))\n",
    "print(\"Average Comparisions: \" , sum(comparisions_fail)/len(comparisions_fail) , \" Average time taken in milliseconds: \" , (sum(time_taken_fail)/len(time_taken_fail))*1000)"
   ]
  },
  {
   "cell_type": "markdown",
   "metadata": {},
   "source": [
    "### Load Factor ≅ 0.25"
   ]
  },
  {
   "cell_type": "code",
   "execution_count": 14,
   "metadata": {},
   "outputs": [],
   "source": [
    "hash_table_double1 = [None] * 1069\n",
    "for j in range(268):\n",
    "    hash_double_fold(Hash_values[j])"
   ]
  },
  {
   "cell_type": "markdown",
   "metadata": {},
   "source": [
    "#### Time Analysis and Number of Key Comparisions for Load Factor ≅ 0.25"
   ]
  },
  {
   "cell_type": "code",
   "execution_count": 15,
   "metadata": {},
   "outputs": [
    {
     "name": "stdout",
     "output_type": "stream",
     "text": [
      "Successful Searches:  3632\n",
      "Average Comparisions:  1.097466960352423  Average time taken in milliseconds:  2.4737896898244447\n",
      "Unsuccessful Searches:  6368\n",
      "Average Comparisions:  1.0970477386934674  Average time taken in milliseconds:  0.940383079662994\n"
     ]
    }
   ],
   "source": [
    "value_success = []\n",
    "value_fail = []\n",
    "comparisions_success = []\n",
    "comparisions_fail = []\n",
    "time_taken_success = []\n",
    "time_taken_fail = []\n",
    "\n",
    "for x in range(10000):\n",
    "  \n",
    "  j = random.randint(180,420)\n",
    "  j = j*10\n",
    "  \n",
    "  start_time = time.time()\n",
    "  a = lookup_folding(j)\n",
    "  \n",
    "  temp = (time.time() - start_time)*1000\n",
    "  \n",
    "  if(a[1]):\n",
    "    comparisions_success.append(a[0])\n",
    "    time_taken_success.append(temp)\n",
    "    value_success.append(j)\n",
    "    \n",
    "  else:\n",
    "    comparisions_fail.append(a[0])\n",
    "    time_taken_fail.append(temp)\n",
    "    value_fail.append(j)\n",
    "\n",
    "print(\"Successful Searches: \" , len(value_success))\n",
    "print(\"Average Comparisions: \" , sum(comparisions_success)/len(comparisions_success) , \" Average time taken in milliseconds: \" , (sum(time_taken_success)/len(time_taken_success))*1000)\n",
    "print(\"Unsuccessful Searches: \", len(value_fail))\n",
    "print(\"Average Comparisions: \" , sum(comparisions_fail)/len(comparisions_fail) , \" Average time taken in milliseconds: \" , (sum(time_taken_fail)/len(time_taken_fail))*1000)"
   ]
  },
  {
   "cell_type": "markdown",
   "metadata": {
    "colab_type": "text",
    "id": "Iii-IjgvsJxP"
   },
   "source": [
    "## Multiplicative Congruential Method\n",
    "\n",
    "---\n",
    "#### a) Insertion of elements in the hash table\n"
   ]
  },
  {
   "cell_type": "code",
   "execution_count": 16,
   "metadata": {
    "colab": {},
    "colab_type": "code",
    "id": "F6CyPTNBsOtf"
   },
   "outputs": [],
   "source": [
    "def hash_double_congruential(key):\n",
    "    i = 0\n",
    "    while(i != 1068):\n",
    "        j = Hash_Congruential(key, i)\n",
    "        if(hash_table_double2[j] == None):\n",
    "            hash_table_double2[j] = key;\n",
    "            return \n",
    "        else:\n",
    "            i += 1\n",
    "    print(\"Overflow\")"
   ]
  },
  {
   "cell_type": "markdown",
   "metadata": {
    "colab_type": "text",
    "id": "gO4fgRZJsUhH"
   },
   "source": [
    "#### b) Searching an element in the hash table"
   ]
  },
  {
   "cell_type": "code",
   "execution_count": 17,
   "metadata": {
    "colab": {},
    "colab_type": "code",
    "id": "VGMyWVEzsXXZ"
   },
   "outputs": [],
   "source": [
    "def lookup2(val):\n",
    "    code = Auxiliary(val)\n",
    "    loc = code\n",
    "    flag = 0\n",
    "    i = 0\n",
    "    while(hash_table_double2[loc] != None):\n",
    "        if(hash_table_double2[loc] == val):\n",
    "            flag = 1\n",
    "            break;\n",
    "        else:\n",
    "            i+=1\n",
    "            loc = Hash_Congruential(val, i)\n",
    "            if(loc == code):\n",
    "                break;\n",
    "    return [i+1, flag]"
   ]
  },
  {
   "cell_type": "markdown",
   "metadata": {
    "colab_type": "text",
    "id": "OP8Yn6ZTsZvS"
   },
   "source": [
    "### Load Factor ≅ 1"
   ]
  },
  {
   "cell_type": "code",
   "execution_count": 18,
   "metadata": {
    "colab": {},
    "colab_type": "code",
    "id": "EOYuZBqqsaNJ"
   },
   "outputs": [],
   "source": [
    "for j in range(1067):\n",
    "    hash_double_congruential(Hash_values[j])"
   ]
  },
  {
   "cell_type": "markdown",
   "metadata": {
    "colab_type": "text",
    "id": "SVjhWHoEscNC"
   },
   "source": [
    "#### Time Analysis and Number of Key Comparisions for Load Factor ≅ 1"
   ]
  },
  {
   "cell_type": "code",
   "execution_count": 19,
   "metadata": {
    "colab": {
     "base_uri": "https://localhost:8080/",
     "height": 85
    },
    "colab_type": "code",
    "id": "cYRIqWnVscng",
    "outputId": "502955ba-7468-483d-b11b-fa4965d1a608"
   },
   "outputs": [
    {
     "name": "stdout",
     "output_type": "stream",
     "text": [
      "Successful Searches:  5340\n",
      "Average Comparisions:  2.033895131086142  Average time taken in milliseconds:  2.2464477167593855\n",
      "Unsuccessful Searches:  4660\n",
      "Average Comparisions:  336.31716738197423  Average time taken in milliseconds:  526.7234830897254\n"
     ]
    }
   ],
   "source": [
    "value_success = []\n",
    "value_fail = []\n",
    "comparisions_success = []\n",
    "comparisions_fail = []\n",
    "time_taken_success = []\n",
    "time_taken_fail = []\n",
    "\n",
    "for x in range(10000):\n",
    "  \n",
    "  j = random.randint(180,420)\n",
    "  j = j*10\n",
    "  \n",
    "  start_time = time.time()\n",
    "  a = lookup2(j)\n",
    "  \n",
    "  temp = (time.time() - start_time)*1000\n",
    "  \n",
    "  if(a[1]):\n",
    "    comparisions_success.append(a[0])\n",
    "    time_taken_success.append(temp)\n",
    "    value_success.append(j)\n",
    "    \n",
    "  else:\n",
    "    comparisions_fail.append(a[0])\n",
    "    time_taken_fail.append(temp)\n",
    "    value_fail.append(j)\n",
    "\n",
    "print(\"Successful Searches: \" , len(value_success))\n",
    "print(\"Average Comparisions: \" , sum(comparisions_success)/len(comparisions_success) , \" Average time taken in milliseconds: \" , (sum(time_taken_success)/len(time_taken_success))*1000)\n",
    "print(\"Unsuccessful Searches: \", len(value_fail))\n",
    "print(\"Average Comparisions: \" , sum(comparisions_fail)/len(comparisions_fail) , \" Average time taken in milliseconds: \" , (sum(time_taken_fail)/len(time_taken_fail))*1000)"
   ]
  },
  {
   "cell_type": "markdown",
   "metadata": {
    "colab_type": "text",
    "id": "ohJomTIHse1P"
   },
   "source": [
    "### Load Factor ≅ 0.75"
   ]
  },
  {
   "cell_type": "code",
   "execution_count": 20,
   "metadata": {
    "colab": {},
    "colab_type": "code",
    "id": "jZeCkcU0sfS5"
   },
   "outputs": [],
   "source": [
    "hash_table_double2 = [None] * 1069\n",
    "for j in range(802):\n",
    "    hash_double_congruential(Hash_values[j])"
   ]
  },
  {
   "cell_type": "markdown",
   "metadata": {
    "colab_type": "text",
    "id": "oMvf3-aTsg73"
   },
   "source": [
    "#### Time Analysis and Number of Key Comparisions for Load Factor ≅ 0.75"
   ]
  },
  {
   "cell_type": "code",
   "execution_count": 21,
   "metadata": {
    "colab": {
     "base_uri": "https://localhost:8080/",
     "height": 85
    },
    "colab_type": "code",
    "id": "bFas1sm6shXJ",
    "outputId": "1f6195ba-e67c-4fe2-c68f-a0135c88ff05"
   },
   "outputs": [
    {
     "name": "stdout",
     "output_type": "stream",
     "text": [
      "Successful Searches:  5039\n",
      "Average Comparisions:  1.3514586227426078  Average time taken in milliseconds:  1.5757201706329305\n",
      "Unsuccessful Searches:  4961\n",
      "Average Comparisions:  3.6797016730497885  Average time taken in milliseconds:  5.83027380412924\n"
     ]
    }
   ],
   "source": [
    "value_success = []\n",
    "value_fail = []\n",
    "comparisions_success = []\n",
    "comparisions_fail = []\n",
    "time_taken_success = []\n",
    "time_taken_fail = []\n",
    "\n",
    "for x in range(10000):\n",
    "  \n",
    "  j = random.randint(180,420)\n",
    "  j = j*10\n",
    "  \n",
    "  start_time = time.time()\n",
    "  a = lookup2(j)\n",
    "  \n",
    "  temp = (time.time() - start_time)*1000\n",
    "  \n",
    "  if(a[1]):\n",
    "    comparisions_success.append(a[0])\n",
    "    time_taken_success.append(temp)\n",
    "    value_success.append(j)\n",
    "    \n",
    "  else:\n",
    "    comparisions_fail.append(a[0])\n",
    "    time_taken_fail.append(temp)\n",
    "    value_fail.append(j)\n",
    "\n",
    "print(\"Successful Searches: \" , len(value_success))\n",
    "print(\"Average Comparisions: \" , sum(comparisions_success)/len(comparisions_success) , \" Average time taken in milliseconds: \" , (sum(time_taken_success)/len(time_taken_success))*1000)\n",
    "print(\"Unsuccessful Searches: \", len(value_fail))\n",
    "print(\"Average Comparisions: \" , sum(comparisions_fail)/len(comparisions_fail) , \" Average time taken in milliseconds: \" , (sum(time_taken_fail)/len(time_taken_fail))*1000)"
   ]
  },
  {
   "cell_type": "markdown",
   "metadata": {},
   "source": [
    "### Load Factor ≅ 0.5"
   ]
  },
  {
   "cell_type": "code",
   "execution_count": 22,
   "metadata": {},
   "outputs": [],
   "source": [
    "hash_table_double2 = [None] * 1069\n",
    "for j in range(535):\n",
    "    hash_double_congruential(Hash_values[j])"
   ]
  },
  {
   "cell_type": "markdown",
   "metadata": {},
   "source": [
    "#### Time Analysis and Number of Key Comparisions for Load Factor ≅ 0.5"
   ]
  },
  {
   "cell_type": "code",
   "execution_count": 23,
   "metadata": {},
   "outputs": [
    {
     "name": "stdout",
     "output_type": "stream",
     "text": [
      "Successful Searches:  4516\n",
      "Average Comparisions:  1.2593002657218777  Average time taken in milliseconds:  1.7678135786571791\n",
      "Unsuccessful Searches:  5484\n",
      "Average Comparisions:  1.7478118161925602  Average time taken in milliseconds:  1.6302805065152248\n"
     ]
    }
   ],
   "source": [
    "value_success = []\n",
    "value_fail = []\n",
    "comparisions_success = []\n",
    "comparisions_fail = []\n",
    "time_taken_success = []\n",
    "time_taken_fail = []\n",
    "\n",
    "for x in range(10000):\n",
    "  \n",
    "  j = random.randint(180,420)\n",
    "  j = j*10\n",
    "  \n",
    "  start_time = time.time()\n",
    "  a = lookup2(j)\n",
    "  \n",
    "  temp = (time.time() - start_time)*1000\n",
    "  \n",
    "  if(a[1]):\n",
    "    comparisions_success.append(a[0])\n",
    "    time_taken_success.append(temp)\n",
    "    value_success.append(j)\n",
    "    \n",
    "  else:\n",
    "    comparisions_fail.append(a[0])\n",
    "    time_taken_fail.append(temp)\n",
    "    value_fail.append(j)\n",
    "\n",
    "print(\"Successful Searches: \" , len(value_success))\n",
    "print(\"Average Comparisions: \" , sum(comparisions_success)/len(comparisions_success) , \" Average time taken in milliseconds: \" , (sum(time_taken_success)/len(time_taken_success))*1000)\n",
    "print(\"Unsuccessful Searches: \", len(value_fail))\n",
    "print(\"Average Comparisions: \" , sum(comparisions_fail)/len(comparisions_fail) , \" Average time taken in milliseconds: \" , (sum(time_taken_fail)/len(time_taken_fail))*1000)"
   ]
  },
  {
   "cell_type": "markdown",
   "metadata": {},
   "source": [
    "### Load Factor ≅ 0.25"
   ]
  },
  {
   "cell_type": "code",
   "execution_count": 24,
   "metadata": {},
   "outputs": [],
   "source": [
    "hash_table_double2 = [None] * 1069\n",
    "for j in range(268):\n",
    "    hash_double_congruential(Hash_values[j])"
   ]
  },
  {
   "cell_type": "markdown",
   "metadata": {},
   "source": [
    "#### Time Analysis and Number of Key Comparisions for Load Factor ≅ 0.25"
   ]
  },
  {
   "cell_type": "code",
   "execution_count": 25,
   "metadata": {},
   "outputs": [
    {
     "name": "stdout",
     "output_type": "stream",
     "text": [
      "Successful Searches:  3644\n",
      "Average Comparisions:  1.1029088913282108  Average time taken in milliseconds:  1.63516935480413\n",
      "Unsuccessful Searches:  6356\n",
      "Average Comparisions:  1.2572372561359346  Average time taken in milliseconds:  0.7840130147579858\n"
     ]
    }
   ],
   "source": [
    "value_success = []\n",
    "value_fail = []\n",
    "comparisions_success = []\n",
    "comparisions_fail = []\n",
    "time_taken_success = []\n",
    "time_taken_fail = []\n",
    "\n",
    "for x in range(10000):\n",
    "  \n",
    "  j = random.randint(180,420)\n",
    "  j = j*10\n",
    "  \n",
    "  start_time = time.time()\n",
    "  a = lookup2(j)\n",
    "  \n",
    "  temp = (time.time() - start_time)*1000\n",
    "  \n",
    "  if(a[1]):\n",
    "    comparisions_success.append(a[0])\n",
    "    time_taken_success.append(temp)\n",
    "    value_success.append(j)\n",
    "    \n",
    "  else:\n",
    "    comparisions_fail.append(a[0])\n",
    "    time_taken_fail.append(temp)\n",
    "    value_fail.append(j)\n",
    "\n",
    "print(\"Successful Searches: \" , len(value_success))\n",
    "print(\"Average Comparisions: \" , sum(comparisions_success)/len(comparisions_success) , \" Average time taken in milliseconds: \" , (sum(time_taken_success)/len(time_taken_success))*1000)\n",
    "print(\"Unsuccessful Searches: \", len(value_fail))\n",
    "print(\"Average Comparisions: \" , sum(comparisions_fail)/len(comparisions_fail) , \" Average time taken in milliseconds: \" , (sum(time_taken_fail)/len(time_taken_fail))*1000)"
   ]
  }
 ],
 "metadata": {
  "colab": {
   "name": "Hash_Double_Rehashing",
   "provenance": []
  },
  "kernelspec": {
   "display_name": "Python 3",
   "language": "python",
   "name": "python3"
  },
  "language_info": {
   "codemirror_mode": {
    "name": "ipython",
    "version": 3
   },
   "file_extension": ".py",
   "mimetype": "text/x-python",
   "name": "python",
   "nbconvert_exporter": "python",
   "pygments_lexer": "ipython3",
   "version": "3.7.1"
  }
 },
 "nbformat": 4,
 "nbformat_minor": 1
}
