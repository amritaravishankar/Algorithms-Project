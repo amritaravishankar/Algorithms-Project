{
  "nbformat": 4,
  "nbformat_minor": 0,
  "metadata": {
    "colab": {
      "name": "Hash_Double_Rehashing",
      "provenance": []
    },
    "kernelspec": {
      "display_name": "Python 3",
      "language": "python",
      "name": "python3"
    },
    "language_info": {
      "codemirror_mode": {
        "name": "ipython",
        "version": 3
      },
      "file_extension": ".py",
      "mimetype": "text/x-python",
      "name": "python",
      "nbconvert_exporter": "python",
      "pygments_lexer": "ipython3",
      "version": "3.7.1"
    }
  },
  "cells": [
    {
      "cell_type": "markdown",
      "metadata": {
        "colab_type": "text",
        "id": "VkqjpuMGkyTy"
      },
      "source": [
        "## Importing the required packages"
      ]
    },
    {
      "cell_type": "code",
      "metadata": {
        "colab_type": "code",
        "id": "qoTTbkhuk06N",
        "colab": {}
      },
      "source": [
        "import random\n",
        "import pandas as pd\n",
        "import pylab as pl\n",
        "import numpy as np\n",
        "import time\n",
        "import math"
      ],
      "execution_count": 0,
      "outputs": []
    },
    {
      "cell_type": "markdown",
      "metadata": {
        "colab_type": "text",
        "id": "KWNy4DEnk_wK"
      },
      "source": [
        "## About the dataset: (Synthetic)\n",
        "#### Library dataset with the ID's of the students stored who enter the library through the E-Gates.\n",
        "We convert the dataset from a Panda's dataframe to an Array using numpy. The integer values are stored in the array called \"Hash_values\".\n",
        "\n",
        "There are 1068 entries (number of values to be hashed 'n'). As we are considering Open Address hashing, we do not want load factor (n/h, where 'h' is the size of the hash table) to ever exceed 1. Therefore, we choose a prime near the value of n and greater than it. Therefore, h = 1069, which is define as \"hash_size\"."
      ]
    },
    {
      "cell_type": "markdown",
      "metadata": {
        "colab_type": "text",
        "id": "VvqwJ3RglxnC"
      },
      "source": [
        "## Reading and cleaning of the dataset "
      ]
    },
    {
      "cell_type": "code",
      "metadata": {
        "cellView": "both",
        "colab_type": "code",
        "id": "s04QV6X4l5Zz",
        "outputId": "aef98074-7659-4c48-c4ad-7cbd257a54ac",
        "colab": {
          "base_uri": "https://localhost:8080/",
          "height": 34
        }
      },
      "source": [
        "url = 'https://raw.githubusercontent.com/arjunmann73/Machine-Learning/master/Regression/Simple%20Multivariate%20Linear%20Regression/FuelConsumption.csv'\n",
        "csv_data = pd.read_csv(url)\n",
        "data = csv_data[\"CO2EMISSIONS\"]\n",
        "Hash_values = np.asanyarray(data)\n",
        "data = csv_data[\"CO2EMISSIONS\"]\n",
        "Hash_values = np.asanyarray(data)\n",
        "Hash_values = Hash_values*10\n",
        "len(Hash_values)"
      ],
      "execution_count": 2,
      "outputs": [
        {
          "output_type": "execute_result",
          "data": {
            "text/plain": [
              "1067"
            ]
          },
          "metadata": {
            "tags": []
          },
          "execution_count": 2
        }
      ]
    },
    {
      "cell_type": "markdown",
      "metadata": {
        "colab_type": "text",
        "id": "nCUAk9GcmuKi"
      },
      "source": [
        "## Creating the hash tables\n",
        "---\n",
        "We create 2 hash tables to check and compare different rehashing functions. In this lab, we will be looking at:\n",
        "### - Folding method of rehashing (hash_table_double1)\n",
        "### - Congruential method of rehashing (hash_table_double2)\n",
        "\n"
      ]
    },
    {
      "cell_type": "code",
      "metadata": {
        "colab_type": "code",
        "id": "iARXHcpCopDk",
        "colab": {}
      },
      "source": [
        "hash_table_double1 = [None] * 1069\n",
        "hash_table_double2 = [None] * 1069\n",
        "hash_size = 1069"
      ],
      "execution_count": 0,
      "outputs": []
    },
    {
      "cell_type": "markdown",
      "metadata": {
        "colab_type": "text",
        "id": "b15QQPeuo8xR"
      },
      "source": [
        "## Defining the Auxiliary hash function and the rehashing functions"
      ]
    },
    {
      "cell_type": "code",
      "metadata": {
        "colab_type": "code",
        "id": "eJvpRvSbpEWL",
        "colab": {}
      },
      "source": [
        "def Auxiliary(k):\n",
        "    return (k % hash_size)\n",
        "\n",
        "def Folding(k):\n",
        "    k = k*k\n",
        "    c = bin(k)\n",
        "    c = c[2:]\n",
        "    c = c[0:5] + c[len(c)-5]\n",
        "    c = int(c)\n",
        "    return c\n",
        "\n",
        "def Congruential(k):\n",
        "  a = 6 * math.floor(hash_size/29) + 7 \n",
        "  return (a*k)%hash_size"
      ],
      "execution_count": 0,
      "outputs": []
    },
    {
      "cell_type": "markdown",
      "metadata": {
        "id": "w9E5oN88GmOE",
        "colab_type": "text"
      },
      "source": [
        "## Defining the Double Hash functions"
      ]
    },
    {
      "cell_type": "code",
      "metadata": {
        "colab_type": "code",
        "id": "QDgODLRhpQSa",
        "colab": {}
      },
      "source": [
        "def Hash_Folding(k, i):\n",
        "    return (Auxiliary(k) + i*Folding(k)) % hash_size\n",
        "\n",
        "def Hash_Congruential(k, i):\n",
        "    return (Auxiliary(k) + i*Congruential(k)) % hash_size"
      ],
      "execution_count": 0,
      "outputs": []
    },
    {
      "cell_type": "markdown",
      "metadata": {
        "colab_type": "text",
        "id": "caHuIDCjpal3"
      },
      "source": [
        "## 1) Folding Method\n",
        "---\n",
        "#### a) Insertion of elements in the hash table\n",
        "\n"
      ]
    },
    {
      "cell_type": "code",
      "metadata": {
        "colab_type": "code",
        "id": "j3mOnAR2pnIJ",
        "colab": {}
      },
      "source": [
        "def hash_double_fold(key):\n",
        "    i = 0 \n",
        "    while(i != 1068):\n",
        "        j = Hash_Folding(key, i)\n",
        "        if(hash_table_double1[j] == None):\n",
        "            hash_table_double1[j] = key;\n",
        "            return \n",
        "        else:\n",
        "            i += 1\n",
        "    print(\"Overflow\")"
      ],
      "execution_count": 0,
      "outputs": []
    },
    {
      "cell_type": "markdown",
      "metadata": {
        "colab_type": "text",
        "id": "2xe7kqJopsB_"
      },
      "source": [
        "#### b) Searching an element in the hash table"
      ]
    },
    {
      "cell_type": "code",
      "metadata": {
        "colab_type": "code",
        "id": "EKZQjSLxpxM5",
        "colab": {}
      },
      "source": [
        "def lookup_folding(val):\n",
        "    code = Auxiliary(val)\n",
        "    loc = code\n",
        "    flag = 0\n",
        "    i = 0\n",
        "    while(hash_table_double1[loc] != None):\n",
        "        if(hash_table_double1[loc] == val):\n",
        "            flag = 1\n",
        "            break;\n",
        "        else:\n",
        "            i+=1\n",
        "            loc = Hash_Folding(val, i)\n",
        "            if(loc == code):\n",
        "                break;\n",
        "    return [i+1, flag]"
      ],
      "execution_count": 0,
      "outputs": []
    },
    {
      "cell_type": "markdown",
      "metadata": {
        "colab_type": "text",
        "id": "Vz0FI9rip-8g"
      },
      "source": [
        "### Load Factor ≅ 1"
      ]
    },
    {
      "cell_type": "code",
      "metadata": {
        "colab_type": "code",
        "id": "8iAYroqip_8S",
        "colab": {}
      },
      "source": [
        "for j in range(1067):\n",
        "    hash_double_fold(Hash_values[j])"
      ],
      "execution_count": 0,
      "outputs": []
    },
    {
      "cell_type": "markdown",
      "metadata": {
        "colab_type": "text",
        "id": "7Jr0tqsUqP1o"
      },
      "source": [
        "#### Time Analysis and Number of Key Comparisions for Load Factor ≅ 1"
      ]
    },
    {
      "cell_type": "code",
      "metadata": {
        "colab_type": "code",
        "id": "ZN-C7RWCqGyA",
        "outputId": "4332f865-3250-4b31-d79f-90adcb880be2",
        "colab": {
          "base_uri": "https://localhost:8080/",
          "height": 85
        }
      },
      "source": [
        "value_success = []\n",
        "value_fail = []\n",
        "comparisions_success = []\n",
        "comparisions_fail = []\n",
        "time_taken_success = []\n",
        "time_taken_fail = []\n",
        "\n",
        "for x in range(10000):\n",
        "  \n",
        "  j = random.randint(180,420)\n",
        "  j = j*10\n",
        "  \n",
        "  start_time = time.time()\n",
        "  a = lookup_folding(j)\n",
        "  \n",
        "  temp = (time.time() - start_time)*1000\n",
        "  \n",
        "  if(a[1]):\n",
        "    comparisions_success.append(a[0])\n",
        "    time_taken_success.append(temp)\n",
        "    value_success.append(j)\n",
        "    \n",
        "  else:\n",
        "    comparisions_fail.append(a[0])\n",
        "    time_taken_fail.append(temp)\n",
        "    value_fail.append(j)\n",
        "\n",
        "print(\"Successful Searches: \" , len(value_success))\n",
        "print(\"Average Comparisions: \" , sum(comparisions_success)/len(comparisions_success) , \" Average time taken in milliseconds: \" , (sum(time_taken_success)/len(time_taken_success))*1000)\n",
        "print(\"Unsuccessful Searches: \", len(value_fail))\n",
        "print(\"Average Comparisions: \" , sum(comparisions_fail)/len(comparisions_fail) , \" Average time taken in milliseconds: \" , (sum(time_taken_fail)/len(time_taken_fail))*1000)"
      ],
      "execution_count": 10,
      "outputs": [
        {
          "output_type": "stream",
          "text": [
            "Successful Searches:  5370\n",
            "Average Comparisions:  1.9361266294227188  Average time taken in milliseconds:  2.320829494483422\n",
            "Unsuccessful Searches:  4630\n",
            "Average Comparisions:  336.2611231101512  Average time taken in milliseconds:  444.1136160370598\n"
          ],
          "name": "stdout"
        }
      ]
    },
    {
      "cell_type": "markdown",
      "metadata": {
        "colab_type": "text",
        "id": "hW2V53S2rCDZ"
      },
      "source": [
        "### Load Factor ≅ 0.75"
      ]
    },
    {
      "cell_type": "code",
      "metadata": {
        "colab_type": "code",
        "id": "wo1itdkyrDaC",
        "colab": {}
      },
      "source": [
        "hash_table_double1 = [None] * 1069\n",
        "for j in range(802):\n",
        "    hash_double_fold(Hash_values[j])"
      ],
      "execution_count": 0,
      "outputs": []
    },
    {
      "cell_type": "markdown",
      "metadata": {
        "colab_type": "text",
        "id": "LTry6j4PrcrI"
      },
      "source": [
        "#### Time Analysis and Number of Key Comparisions for Load Factor ≅ 0.75"
      ]
    },
    {
      "cell_type": "code",
      "metadata": {
        "colab_type": "code",
        "id": "GP98Z8URrIU3",
        "outputId": "22504966-1422-4829-e12a-72b5691f651c",
        "colab": {
          "base_uri": "https://localhost:8080/",
          "height": 85
        }
      },
      "source": [
        "value_success = []\n",
        "value_fail = []\n",
        "comparisions_success = []\n",
        "comparisions_fail = []\n",
        "time_taken_success = []\n",
        "time_taken_fail = []\n",
        "\n",
        "for x in range(10000):\n",
        "  \n",
        "  j = random.randint(180,420)\n",
        "  j = j*10\n",
        "  \n",
        "  start_time = time.time()\n",
        "  a = lookup_folding(j)\n",
        "  \n",
        "  temp = (time.time() - start_time)*1000\n",
        "  \n",
        "  if(a[1]):\n",
        "    comparisions_success.append(a[0])\n",
        "    time_taken_success.append(temp)\n",
        "    value_success.append(j)\n",
        "    \n",
        "  else:\n",
        "    comparisions_fail.append(a[0])\n",
        "    time_taken_fail.append(temp)\n",
        "    value_fail.append(j)\n",
        "\n",
        "print(\"Successful Searches: \" , len(value_success))\n",
        "print(\"Average Comparisions: \" , sum(comparisions_success)/len(comparisions_success) , \" Average time taken in milliseconds: \" , (sum(time_taken_success)/len(time_taken_success))*1000)\n",
        "print(\"Unsuccessful Searches: \", len(value_fail))\n",
        "print(\"Average Comparisions: \" , sum(comparisions_fail)/len(comparisions_fail) , \" Average time taken in milliseconds: \" , (sum(time_taken_fail)/len(time_taken_fail))*1000)"
      ],
      "execution_count": 12,
      "outputs": [
        {
          "output_type": "stream",
          "text": [
            "Successful Searches:  5031\n",
            "Average Comparisions:  1.2285827867223216  Average time taken in milliseconds:  1.3220833869559512\n",
            "Unsuccessful Searches:  4969\n",
            "Average Comparisions:  4.606761923928356  Average time taken in milliseconds:  5.923375010514408\n"
          ],
          "name": "stdout"
        }
      ]
    },
    {
      "cell_type": "markdown",
      "metadata": {
        "id": "TVW3jgjvGcY5",
        "colab_type": "text"
      },
      "source": [
        "### Load Factor ≅ 0.5"
      ]
    },
    {
      "cell_type": "code",
      "metadata": {
        "id": "Bk8xOHNqGcY8",
        "colab_type": "code",
        "colab": {}
      },
      "source": [
        "hash_table_double1 = [None] * 1069\n",
        "for j in range(535):\n",
        "    hash_double_fold(Hash_values[j])"
      ],
      "execution_count": 0,
      "outputs": []
    },
    {
      "cell_type": "markdown",
      "metadata": {
        "id": "Df7CTCRPGcZF",
        "colab_type": "text"
      },
      "source": [
        "#### Time Analysis and Number of Key Comparisions for Load Factor ≅ 0.5"
      ]
    },
    {
      "cell_type": "code",
      "metadata": {
        "id": "H7TtRH6aGcZH",
        "colab_type": "code",
        "colab": {
          "base_uri": "https://localhost:8080/",
          "height": 85
        },
        "outputId": "b6e10cd4-af9c-43ea-f101-1986ac254705"
      },
      "source": [
        "value_success = []\n",
        "value_fail = []\n",
        "comparisions_success = []\n",
        "comparisions_fail = []\n",
        "time_taken_success = []\n",
        "time_taken_fail = []\n",
        "\n",
        "for x in range(10000):\n",
        "  \n",
        "  j = random.randint(180,420)\n",
        "  j = j*10\n",
        "  \n",
        "  start_time = time.time()\n",
        "  a = lookup_folding(j)\n",
        "  \n",
        "  temp = (time.time() - start_time)*1000\n",
        "  \n",
        "  if(a[1]):\n",
        "    comparisions_success.append(a[0])\n",
        "    time_taken_success.append(temp)\n",
        "    value_success.append(j)\n",
        "    \n",
        "  else:\n",
        "    comparisions_fail.append(a[0])\n",
        "    time_taken_fail.append(temp)\n",
        "    value_fail.append(j)\n",
        "\n",
        "print(\"Successful Searches: \" , len(value_success))\n",
        "print(\"Average Comparisions: \" , sum(comparisions_success)/len(comparisions_success) , \" Average time taken in milliseconds: \" , (sum(time_taken_success)/len(time_taken_success))*1000)\n",
        "print(\"Unsuccessful Searches: \", len(value_fail))\n",
        "print(\"Average Comparisions: \" , sum(comparisions_fail)/len(comparisions_fail) , \" Average time taken in milliseconds: \" , (sum(time_taken_fail)/len(time_taken_fail))*1000)"
      ],
      "execution_count": 14,
      "outputs": [
        {
          "output_type": "stream",
          "text": [
            "Successful Searches:  4578\n",
            "Average Comparisions:  1.1114023591087812  Average time taken in milliseconds:  1.2491196198669674\n",
            "Unsuccessful Searches:  5422\n",
            "Average Comparisions:  1.8087421615639985  Average time taken in milliseconds:  1.9667993740418088\n"
          ],
          "name": "stdout"
        }
      ]
    },
    {
      "cell_type": "markdown",
      "metadata": {
        "id": "BeRAGYteGcZS",
        "colab_type": "text"
      },
      "source": [
        "### Load Factor ≅ 0.25"
      ]
    },
    {
      "cell_type": "code",
      "metadata": {
        "id": "nWAHvAEtGcZU",
        "colab_type": "code",
        "colab": {}
      },
      "source": [
        "hash_table_double1 = [None] * 1069\n",
        "for j in range(268):\n",
        "    hash_double_fold(Hash_values[j])"
      ],
      "execution_count": 0,
      "outputs": []
    },
    {
      "cell_type": "markdown",
      "metadata": {
        "id": "9Etd6Ul0GcZd",
        "colab_type": "text"
      },
      "source": [
        "#### Time Analysis and Number of Key Comparisions for Load Factor ≅ 0.25"
      ]
    },
    {
      "cell_type": "code",
      "metadata": {
        "id": "QYFnvpkRGcZg",
        "colab_type": "code",
        "colab": {
          "base_uri": "https://localhost:8080/",
          "height": 85
        },
        "outputId": "8a1c15fe-0f3f-4e49-d27c-da48af795a35"
      },
      "source": [
        "value_success = []\n",
        "value_fail = []\n",
        "comparisions_success = []\n",
        "comparisions_fail = []\n",
        "time_taken_success = []\n",
        "time_taken_fail = []\n",
        "\n",
        "for x in range(10000):\n",
        "  \n",
        "  j = random.randint(180,420)\n",
        "  j = j*10\n",
        "  \n",
        "  start_time = time.time()\n",
        "  a = lookup_folding(j)\n",
        "  \n",
        "  temp = (time.time() - start_time)*1000\n",
        "  \n",
        "  if(a[1]):\n",
        "    comparisions_success.append(a[0])\n",
        "    time_taken_success.append(temp)\n",
        "    value_success.append(j)\n",
        "    \n",
        "  else:\n",
        "    comparisions_fail.append(a[0])\n",
        "    time_taken_fail.append(temp)\n",
        "    value_fail.append(j)\n",
        "\n",
        "print(\"Successful Searches: \" , len(value_success))\n",
        "print(\"Average Comparisions: \" , sum(comparisions_success)/len(comparisions_success) , \" Average time taken in milliseconds: \" , (sum(time_taken_success)/len(time_taken_success))*1000)\n",
        "print(\"Unsuccessful Searches: \", len(value_fail))\n",
        "print(\"Average Comparisions: \" , sum(comparisions_fail)/len(comparisions_fail) , \" Average time taken in milliseconds: \" , (sum(time_taken_fail)/len(time_taken_fail))*1000)"
      ],
      "execution_count": 16,
      "outputs": [
        {
          "output_type": "stream",
          "text": [
            "Successful Searches:  3646\n",
            "Average Comparisions:  1.0957213384530993  Average time taken in milliseconds:  1.2476759432961635\n",
            "Unsuccessful Searches:  6354\n",
            "Average Comparisions:  1.1062322946175638  Average time taken in milliseconds:  0.7748040981851061\n"
          ],
          "name": "stdout"
        }
      ]
    },
    {
      "cell_type": "markdown",
      "metadata": {
        "colab_type": "text",
        "id": "Iii-IjgvsJxP"
      },
      "source": [
        "## Multiplicative Congruential Method\n",
        "\n",
        "---\n",
        "#### a) Insertion of elements in the hash table\n"
      ]
    },
    {
      "cell_type": "code",
      "metadata": {
        "colab_type": "code",
        "id": "F6CyPTNBsOtf",
        "colab": {}
      },
      "source": [
        "def hash_double_congruential(key):\n",
        "    i = 0\n",
        "    while(i != 1068):\n",
        "        j = Hash_Congruential(key, i)\n",
        "        if(hash_table_double2[j] == None):\n",
        "            hash_table_double2[j] = key;\n",
        "            return \n",
        "        else:\n",
        "            i += 1\n",
        "    print(\"Overflow\")"
      ],
      "execution_count": 0,
      "outputs": []
    },
    {
      "cell_type": "markdown",
      "metadata": {
        "colab_type": "text",
        "id": "gO4fgRZJsUhH"
      },
      "source": [
        "#### b) Searching an element in the hash table"
      ]
    },
    {
      "cell_type": "code",
      "metadata": {
        "colab_type": "code",
        "id": "VGMyWVEzsXXZ",
        "colab": {}
      },
      "source": [
        "def lookup2(val):\n",
        "    code = Auxiliary(val)\n",
        "    loc = code\n",
        "    flag = 0\n",
        "    i = 0\n",
        "    while(hash_table_double2[loc] != None):\n",
        "        if(hash_table_double2[loc] == val):\n",
        "            flag = 1\n",
        "            break;\n",
        "        else:\n",
        "            i+=1\n",
        "            loc = Hash_Congruential(val, i)\n",
        "            if(loc == code):\n",
        "                break;\n",
        "    return [i+1, flag]"
      ],
      "execution_count": 0,
      "outputs": []
    },
    {
      "cell_type": "markdown",
      "metadata": {
        "colab_type": "text",
        "id": "OP8Yn6ZTsZvS"
      },
      "source": [
        "### Load Factor ≅ 1"
      ]
    },
    {
      "cell_type": "code",
      "metadata": {
        "colab_type": "code",
        "id": "EOYuZBqqsaNJ",
        "colab": {}
      },
      "source": [
        "for j in range(1067):\n",
        "    hash_double_congruential(Hash_values[j])"
      ],
      "execution_count": 0,
      "outputs": []
    },
    {
      "cell_type": "markdown",
      "metadata": {
        "colab_type": "text",
        "id": "SVjhWHoEscNC"
      },
      "source": [
        "#### Time Analysis and Number of Key Comparisions for Load Factor ≅ 1"
      ]
    },
    {
      "cell_type": "code",
      "metadata": {
        "colab_type": "code",
        "id": "cYRIqWnVscng",
        "outputId": "75a30cb3-ad05-4581-b2d5-7ff1de8cdccf",
        "colab": {
          "base_uri": "https://localhost:8080/",
          "height": 85
        }
      },
      "source": [
        "value_success = []\n",
        "value_fail = []\n",
        "comparisions_success = []\n",
        "comparisions_fail = []\n",
        "time_taken_success = []\n",
        "time_taken_fail = []\n",
        "\n",
        "for x in range(10000):\n",
        "  \n",
        "  j = random.randint(180,420)\n",
        "  j = j*10\n",
        "  \n",
        "  start_time = time.time()\n",
        "  a = lookup2(j)\n",
        "  \n",
        "  temp = (time.time() - start_time)*1000\n",
        "  \n",
        "  if(a[1]):\n",
        "    comparisions_success.append(a[0])\n",
        "    time_taken_success.append(temp)\n",
        "    value_success.append(j)\n",
        "    \n",
        "  else:\n",
        "    comparisions_fail.append(a[0])\n",
        "    time_taken_fail.append(temp)\n",
        "    value_fail.append(j)\n",
        "\n",
        "print(\"Successful Searches: \" , len(value_success))\n",
        "print(\"Average Comparisions: \" , sum(comparisions_success)/len(comparisions_success) , \" Average time taken in milliseconds: \" , (sum(time_taken_success)/len(time_taken_success))*1000)\n",
        "print(\"Unsuccessful Searches: \", len(value_fail))\n",
        "print(\"Average Comparisions: \" , sum(comparisions_fail)/len(comparisions_fail) , \" Average time taken in milliseconds: \" , (sum(time_taken_fail)/len(time_taken_fail))*1000)"
      ],
      "execution_count": 20,
      "outputs": [
        {
          "output_type": "stream",
          "text": [
            "Successful Searches:  5310\n",
            "Average Comparisions:  1.9661016949152543  Average time taken in milliseconds:  2.0107980501853815\n",
            "Unsuccessful Searches:  4690\n",
            "Average Comparisions:  340.5682302771855  Average time taken in milliseconds:  331.8543118962855\n"
          ],
          "name": "stdout"
        }
      ]
    },
    {
      "cell_type": "markdown",
      "metadata": {
        "colab_type": "text",
        "id": "ohJomTIHse1P"
      },
      "source": [
        "### Load Factor ≅ 0.75"
      ]
    },
    {
      "cell_type": "code",
      "metadata": {
        "colab_type": "code",
        "id": "jZeCkcU0sfS5",
        "colab": {}
      },
      "source": [
        "hash_table_double2 = [None] * 1069\n",
        "for j in range(802):\n",
        "    hash_double_congruential(Hash_values[j])"
      ],
      "execution_count": 0,
      "outputs": []
    },
    {
      "cell_type": "markdown",
      "metadata": {
        "colab_type": "text",
        "id": "oMvf3-aTsg73"
      },
      "source": [
        "#### Time Analysis and Number of Key Comparisions for Load Factor ≅ 0.75"
      ]
    },
    {
      "cell_type": "code",
      "metadata": {
        "colab_type": "code",
        "id": "bFas1sm6shXJ",
        "outputId": "a002c94f-1ec9-4476-bbcd-fad1d1c104e2",
        "colab": {
          "base_uri": "https://localhost:8080/",
          "height": 85
        }
      },
      "source": [
        "value_success = []\n",
        "value_fail = []\n",
        "comparisions_success = []\n",
        "comparisions_fail = []\n",
        "time_taken_success = []\n",
        "time_taken_fail = []\n",
        "\n",
        "for x in range(10000):\n",
        "  \n",
        "  j = random.randint(180,420)\n",
        "  j = j*10\n",
        "  \n",
        "  start_time = time.time()\n",
        "  a = lookup2(j)\n",
        "  \n",
        "  temp = (time.time() - start_time)*1000\n",
        "  \n",
        "  if(a[1]):\n",
        "    comparisions_success.append(a[0])\n",
        "    time_taken_success.append(temp)\n",
        "    value_success.append(j)\n",
        "    \n",
        "  else:\n",
        "    comparisions_fail.append(a[0])\n",
        "    time_taken_fail.append(temp)\n",
        "    value_fail.append(j)\n",
        "\n",
        "print(\"Successful Searches: \" , len(value_success))\n",
        "print(\"Average Comparisions: \" , sum(comparisions_success)/len(comparisions_success) , \" Average time taken in milliseconds: \" , (sum(time_taken_success)/len(time_taken_success))*1000)\n",
        "print(\"Unsuccessful Searches: \", len(value_fail))\n",
        "print(\"Average Comparisions: \" , sum(comparisions_fail)/len(comparisions_fail) , \" Average time taken in milliseconds: \" , (sum(time_taken_fail)/len(time_taken_fail))*1000)"
      ],
      "execution_count": 23,
      "outputs": [
        {
          "output_type": "stream",
          "text": [
            "Successful Searches:  4921\n",
            "Average Comparisions:  1.3521641942694573  Average time taken in milliseconds:  1.4759083875575898\n",
            "Unsuccessful Searches:  5079\n",
            "Average Comparisions:  3.5481393975191966  Average time taken in milliseconds:  3.7998635836017485\n"
          ],
          "name": "stdout"
        }
      ]
    },
    {
      "cell_type": "markdown",
      "metadata": {
        "id": "O5HF_0qXGcbD",
        "colab_type": "text"
      },
      "source": [
        "### Load Factor ≅ 0.5"
      ]
    },
    {
      "cell_type": "code",
      "metadata": {
        "id": "E20vcJ7pGcbG",
        "colab_type": "code",
        "colab": {}
      },
      "source": [
        "hash_table_double2 = [None] * 1069\n",
        "for j in range(535):\n",
        "    hash_double_congruential(Hash_values[j])"
      ],
      "execution_count": 0,
      "outputs": []
    },
    {
      "cell_type": "markdown",
      "metadata": {
        "id": "CTRXe3dMGcbQ",
        "colab_type": "text"
      },
      "source": [
        "#### Time Analysis and Number of Key Comparisions for Load Factor ≅ 0.5"
      ]
    },
    {
      "cell_type": "code",
      "metadata": {
        "id": "zDSdHZxnGcbU",
        "colab_type": "code",
        "colab": {
          "base_uri": "https://localhost:8080/",
          "height": 85
        },
        "outputId": "ca73feb1-654f-456d-ba29-d42c228632ac"
      },
      "source": [
        "value_success = []\n",
        "value_fail = []\n",
        "comparisions_success = []\n",
        "comparisions_fail = []\n",
        "time_taken_success = []\n",
        "time_taken_fail = []\n",
        "\n",
        "for x in range(10000):\n",
        "  \n",
        "  j = random.randint(180,420)\n",
        "  j = j*10\n",
        "  \n",
        "  start_time = time.time()\n",
        "  a = lookup2(j)\n",
        "  \n",
        "  temp = (time.time() - start_time)*1000\n",
        "  \n",
        "  if(a[1]):\n",
        "    comparisions_success.append(a[0])\n",
        "    time_taken_success.append(temp)\n",
        "    value_success.append(j)\n",
        "    \n",
        "  else:\n",
        "    comparisions_fail.append(a[0])\n",
        "    time_taken_fail.append(temp)\n",
        "    value_fail.append(j)\n",
        "\n",
        "print(\"Successful Searches: \" , len(value_success))\n",
        "print(\"Average Comparisions: \" , sum(comparisions_success)/len(comparisions_success) , \" Average time taken in milliseconds: \" , (sum(time_taken_success)/len(time_taken_success))*1000)\n",
        "print(\"Unsuccessful Searches: \", len(value_fail))\n",
        "print(\"Average Comparisions: \" , sum(comparisions_fail)/len(comparisions_fail) , \" Average time taken in milliseconds: \" , (sum(time_taken_fail)/len(time_taken_fail))*1000)"
      ],
      "execution_count": 25,
      "outputs": [
        {
          "output_type": "stream",
          "text": [
            "Successful Searches:  4473\n",
            "Average Comparisions:  1.2412251285490723  Average time taken in milliseconds:  1.631725455407139\n",
            "Unsuccessful Searches:  5527\n",
            "Average Comparisions:  1.7483263976840961  Average time taken in milliseconds:  1.7340238904875356\n"
          ],
          "name": "stdout"
        }
      ]
    },
    {
      "cell_type": "markdown",
      "metadata": {
        "id": "Zpq6qI6GGcbe",
        "colab_type": "text"
      },
      "source": [
        "### Load Factor ≅ 0.25"
      ]
    },
    {
      "cell_type": "code",
      "metadata": {
        "id": "a4wq3zHGGcbj",
        "colab_type": "code",
        "colab": {}
      },
      "source": [
        "hash_table_double2 = [None] * 1069\n",
        "for j in range(268):\n",
        "    hash_double_congruential(Hash_values[j])"
      ],
      "execution_count": 0,
      "outputs": []
    },
    {
      "cell_type": "markdown",
      "metadata": {
        "id": "LPXioAf_Gcb2",
        "colab_type": "text"
      },
      "source": [
        "#### Time Analysis and Number of Key Comparisions for Load Factor ≅ 0.25"
      ]
    },
    {
      "cell_type": "code",
      "metadata": {
        "id": "bEPxWdxlGcb4",
        "colab_type": "code",
        "colab": {
          "base_uri": "https://localhost:8080/",
          "height": 85
        },
        "outputId": "6f6faede-c3bd-4a77-a6c5-aac41eeabd54"
      },
      "source": [
        "value_success = []\n",
        "value_fail = []\n",
        "comparisions_success = []\n",
        "comparisions_fail = []\n",
        "time_taken_success = []\n",
        "time_taken_fail = []\n",
        "\n",
        "for x in range(10000):\n",
        "  \n",
        "  j = random.randint(180,420)\n",
        "  j = j*10\n",
        "  \n",
        "  start_time = time.time()\n",
        "  a = lookup2(j)\n",
        "  \n",
        "  temp = (time.time() - start_time)*1000\n",
        "  \n",
        "  if(a[1]):\n",
        "    comparisions_success.append(a[0])\n",
        "    time_taken_success.append(temp)\n",
        "    value_success.append(j)\n",
        "    \n",
        "  else:\n",
        "    comparisions_fail.append(a[0])\n",
        "    time_taken_fail.append(temp)\n",
        "    value_fail.append(j)\n",
        "\n",
        "print(\"Successful Searches: \" , len(value_success))\n",
        "print(\"Average Comparisions: \" , sum(comparisions_success)/len(comparisions_success) , \" Average time taken in milliseconds: \" , (sum(time_taken_success)/len(time_taken_success))*1000)\n",
        "print(\"Unsuccessful Searches: \", len(value_fail))\n",
        "print(\"Average Comparisions: \" , sum(comparisions_fail)/len(comparisions_fail) , \" Average time taken in milliseconds: \" , (sum(time_taken_fail)/len(time_taken_fail))*1000)"
      ],
      "execution_count": 27,
      "outputs": [
        {
          "output_type": "stream",
          "text": [
            "Successful Searches:  3653\n",
            "Average Comparisions:  1.099096632904462  Average time taken in milliseconds:  1.227663146153953\n",
            "Unsuccessful Searches:  6347\n",
            "Average Comparisions:  1.2541358121947377  Average time taken in milliseconds:  0.9491666388432773\n"
          ],
          "name": "stdout"
        }
      ]
    }
  ]
}