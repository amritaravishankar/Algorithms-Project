{
  "nbformat": 4,
  "nbformat_minor": 0,
  "metadata": {
    "colab": {
      "name": "Present",
      "provenance": [],
      "include_colab_link": true
    },
    "kernelspec": {
      "name": "python3",
      "display_name": "Python 3"
    }
  },
  "cells": [
    {
      "cell_type": "markdown",
      "metadata": {
        "id": "view-in-github",
        "colab_type": "text"
      },
      "source": [
        "<a href=\"https://colab.research.google.com/github/arjunmann73/Algorithms-Project/blob/lab3/Present.ipynb\" target=\"_parent\"><img src=\"https://colab.research.google.com/assets/colab-badge.svg\" alt=\"Open In Colab\"/></a>"
      ]
    },
    {
      "cell_type": "markdown",
      "metadata": {
        "id": "1QHbFosZ0ZJS",
        "colab_type": "text"
      },
      "source": [
        "## Importing the required libraries"
      ]
    },
    {
      "cell_type": "code",
      "metadata": {
        "id": "e9r50NKu0YSN",
        "colab_type": "code",
        "colab": {}
      },
      "source": [
        "import random\n",
        "import pandas as pd\n",
        "import pylab as pl\n",
        "import numpy as np\n",
        "import time\n",
        "import math\n",
        "import matplotlib.pyplot as plt\n",
        "from statistics import mean "
      ],
      "execution_count": 0,
      "outputs": []
    },
    {
      "cell_type": "markdown",
      "metadata": {
        "id": "WLjIRA690d3r",
        "colab_type": "text"
      },
      "source": [
        "## Defining algorithms:\n",
        "\n",
        "### 1. Insertion Sort"
      ]
    },
    {
      "cell_type": "code",
      "metadata": {
        "id": "UMIP5Tgq0dZi",
        "colab_type": "code",
        "colab": {}
      },
      "source": [
        "def insertion_sort(collection, start, end):\n",
        "    count = 0\n",
        "    for loop_index in range(start, end+1):\n",
        "        insertion_index = loop_index\n",
        "        while insertion_index > 0 and collection[insertion_index - 1] > collection[insertion_index]:\n",
        "            collection[insertion_index], collection[insertion_index - 1] = collection[insertion_index - 1], collection[insertion_index]\n",
        "            insertion_index -= 1\n",
        "            count += 1\n",
        "    return count"
      ],
      "execution_count": 0,
      "outputs": []
    },
    {
      "cell_type": "markdown",
      "metadata": {
        "id": "qRt8crC50sw6",
        "colab_type": "text"
      },
      "source": [
        "### 2. Merge Sort"
      ]
    },
    {
      "cell_type": "code",
      "metadata": {
        "id": "WSC5EZd101aK",
        "colab_type": "code",
        "colab": {}
      },
      "source": [
        "def MergeSort(ar, start, end):\n",
        "  if(start<end):\n",
        "    mid = (start+end)/2\n",
        "    mid = int(mid)\n",
        "    l = MergeSort(ar, start, mid)\n",
        "    r = MergeSort(ar, mid+1, end)\n",
        "    return Merge(ar, start, mid, end) + l + r\n",
        "  return 0\n",
        "\n",
        "def Merge(ar, start, mid, end):\n",
        "  p = start\n",
        "  q = mid+1\n",
        "  count = 0\n",
        "  temp = []\n",
        "  for i in range(0,end-start+1):\n",
        "    if p>mid :\n",
        "      temp.append(ar[q])\n",
        "      q += 1\n",
        "    elif q>end :\n",
        "      temp.append(ar[p])\n",
        "      p += 1\n",
        "    elif ar[p] > ar[q]:\n",
        "      temp.append(ar[q])\n",
        "      count += 1\n",
        "      q += 1\n",
        "    else:\n",
        "      temp.append(ar[p])\n",
        "      count += 1\n",
        "      p += 1\n",
        "  i = 0\n",
        "  for q in range(start, end+1):\n",
        "    ar[q] = temp[i]\n",
        "    i += 1\n",
        "  return count\n",
        "  "
      ],
      "execution_count": 0,
      "outputs": []
    },
    {
      "cell_type": "markdown",
      "metadata": {
        "id": "5ZcnPvRM05fz",
        "colab_type": "text"
      },
      "source": [
        "### 3. Merge Sort integrated with Insertion Sort"
      ]
    },
    {
      "cell_type": "code",
      "metadata": {
        "id": "JA3FQHI-1DHx",
        "colab_type": "code",
        "colab": {}
      },
      "source": [
        "def Merge_insert_Sort(ar, start, end, S):\n",
        "  if(end-start > S):\n",
        "    mid = (start+end)/2\n",
        "    mid = int(mid)\n",
        "    l = Merge_insert_Sort(ar, start, mid, S)\n",
        "    r = Merge_insert_Sort(ar, mid+1, end, S)\n",
        "    return l + r + Merge(ar, start, mid, end)\n",
        "  else:\n",
        "    return insertion_sort(ar, start, end)"
      ],
      "execution_count": 0,
      "outputs": []
    },
    {
      "cell_type": "markdown",
      "metadata": {
        "id": "KWAf3M3V1UML",
        "colab_type": "text"
      },
      "source": [
        "## Generating numbers to be fed to the algorithms"
      ]
    },
    {
      "cell_type": "code",
      "metadata": {
        "id": "0yi23wHu1lai",
        "colab_type": "code",
        "colab": {}
      },
      "source": [
        "numbers = []\n",
        "for i in range(1000000):\n",
        "    numbers.append(random.randint(0,1000))"
      ],
      "execution_count": 0,
      "outputs": []
    },
    {
      "cell_type": "markdown",
      "metadata": {
        "id": "m_KBGu8T1nML",
        "colab_type": "text"
      },
      "source": [
        "## Finding size 'S' for which Insertion Sort is better than Merge Sort"
      ]
    },
    {
      "cell_type": "code",
      "metadata": {
        "id": "DDz3yi272cGS",
        "colab_type": "code",
        "colab": {
          "base_uri": "https://localhost:8080/",
          "height": 295
        },
        "outputId": "a256f722-6539-434f-de3f-4daa5d5f17ef"
      },
      "source": [
        "merge_values = []\n",
        "insert_values = []\n",
        "points = []\n",
        "\n",
        "for z in range(100):\n",
        "    yeet = []\n",
        "    huha = []\n",
        "    k = z\n",
        "    for i in range(k):\n",
        "        x = numbers[i]\n",
        "        yeet.append(x)\n",
        "        huha.append(x)\n",
        "    #print(\"Size: \", k)\n",
        "    start_time = time.time()\n",
        "    a = MergeSort(yeet, 0, len(yeet) - 1)\n",
        "    time_taken_1 = time.time() - start_time\n",
        "    #print(yeet)\n",
        "    #print(\"Time taken for merge sort = \", time_taken_1*1000)\n",
        "\n",
        "    start_time = time.time()\n",
        "    b = insertion_sort(huha, 1, len(huha)-1)\n",
        "    time_taken_2 = time.time() - start_time\n",
        "    #print(huha)\n",
        "    #print(\"Time taken in insertion sort = \", time_taken_2*1000)\n",
        "    merge_values.append(time_taken_1)\n",
        "    insert_values.append(time_taken_2)\n",
        "    points.append(k)\n",
        "    #if(time_taken_1<time_taken_2):\n",
        "    #    print(\"Maximum size of array for which insertion sort is faster: \", z-1)\n",
        "    #    break\n",
        "    #size = size*10\n",
        "\n",
        "plt.plot(points, merge_values, label = \"MergeSort\")\n",
        "plt.plot(points, insert_values, label = \"InsertSort\")\n",
        "plt.xlabel(\"Size\")\n",
        "plt.ylabel(\"Time\")\n",
        "plt.title(\"Time analysis for sorting\")\n",
        "plt.legend()\n",
        "plt.show()"
      ],
      "execution_count": 61,
      "outputs": [
        {
          "output_type": "display_data",
          "data": {
            "image/png": "[encoded data removed]",
            "text/plain": [
              "<Figure size 432x288 with 1 Axes>"
            ]
          },
          "metadata": {
            "tags": []
          }
        }
      ]
    },
    {
      "cell_type": "markdown",
      "metadata": {
        "id": "r6y12Jdf21TU",
        "colab_type": "text"
      },
      "source": [
        "## Choosing 5 values of 'S' to run the integrated algorithm"
      ]
    },
    {
      "cell_type": "code",
      "metadata": {
        "id": "Ti69x3dD2_ja",
        "colab_type": "code",
        "colab": {
          "base_uri": "https://localhost:8080/",
          "height": 33
        },
        "outputId": "55a8a9ff-6694-4896-a0e9-9bf6bb731093"
      },
      "source": [
        "anomalies = []\n",
        "attempts = 5\n",
        "for i in range(len(merge_values)):\n",
        "  if(merge_values[i]<insert_values[i]):\n",
        "    #print(points[i])\n",
        "    if points[i] == 1 or points[i] == 0:\n",
        "      continue\n",
        "    attempts -= 1\n",
        "    anomalies.append(points[i])\n",
        "  if(attempts==0):\n",
        "    break\n",
        "print(anomalies)"
      ],
      "execution_count": 62,
      "outputs": [
        {
          "output_type": "stream",
          "text": [
            "[43, 45, 47, 48, 49]\n"
          ],
          "name": "stdout"
        }
      ]
    },
    {
      "cell_type": "markdown",
      "metadata": {
        "id": "8FGb0nKD38lW",
        "colab_type": "text"
      },
      "source": [
        "## Running Merge Sort and Integrated Sort with different input sizes\n",
        "\n",
        "### 1. Size = 1000"
      ]
    },
    {
      "cell_type": "code",
      "metadata": {
        "id": "UjNqIDa4z88m",
        "colab_type": "code",
        "colab": {
          "base_uri": "https://localhost:8080/",
          "height": 345
        },
        "outputId": "2d90396f-7cbc-4a11-cb04-af3f10833752"
      },
      "source": [
        "temp = 1000\n",
        "#print(\"SIZE \", temp)\n",
        "xa = []\n",
        "ya = []\n",
        "#x = []\n",
        "compare_normal = []\n",
        "compare_inte = []\n",
        "y = []\n",
        "for i in range(len(anomalies)):\n",
        "  A = []\n",
        "  B = []\n",
        "  for j in range(temp):\n",
        "    A.append(numbers[i])\n",
        "    B.append(numbers[i])\n",
        "    \n",
        "    \n",
        "  start_time = time.time()\n",
        "  a = Merge_insert_Sort(A, 0, len(A) - 1, anomalies[i]-1)\n",
        "  compare_normal.append(a)\n",
        "  time_taken_1 = time.time() - start_time\n",
        "  xa.append(anomalies[i]-1)\n",
        "  ya.append(time_taken_1*1000)\n",
        "\n",
        "\n",
        "  start_time = time.time()\n",
        "  b = MergeSort(B, 0, len(B)-1)\n",
        "  compare_inte.append(b)\n",
        "  time_taken_2 = time.time() - start_time\n",
        "  y.append(time_taken_2*1000)\n",
        "\n",
        "print(\"Let us look at how time ranges with different 'S' values:\")\n",
        "avg = round(mean(y),2)\n",
        "y = []\n",
        "for i in range(5):\n",
        "  y.append(avg)\n",
        "#plt.subplot(1, 2, 1) \n",
        "plt.plot(xa, ya,linestyle='--', marker='o', label = \"Integrated algorithm sort\")\n",
        "plt.plot(xa, y, label = \"Merge sort\")\n",
        "plt.xlabel(\"Size 'S'\")\n",
        "plt.ylabel(\"Time in milliseconds\")\n",
        "plt.title(\"Time analysis for integrated algorithm\")\n",
        "plt.legend()\n",
        "plt.show()\n",
        "\n",
        "print(compare_normal)\n",
        "print(compare_inte)"
      ],
      "execution_count": 63,
      "outputs": [
        {
          "output_type": "stream",
          "text": [
            "Let us look at how time ranges with different 'S' values:\n"
          ],
          "name": "stdout"
        },
        {
          "output_type": "display_data",
          "data": {
            "image/png": "[encoded data removed]",
            "text/plain": [
              "<Figure size 432x288 with 1 Axes>"
            ]
          },
          "metadata": {
            "tags": []
          }
        },
        {
          "output_type": "stream",
          "text": [
            "[2508, 2508, 2508, 2508, 2508]\n",
            "[5044, 5044, 5044, 5044, 5044]\n"
          ],
          "name": "stdout"
        }
      ]
    },
    {
      "cell_type": "markdown",
      "metadata": {
        "id": "SIRIS-yh89ub",
        "colab_type": "text"
      },
      "source": [
        "### 2. Size = 10000"
      ]
    },
    {
      "cell_type": "code",
      "metadata": {
        "id": "GvUZ-ZCE7nrF",
        "colab_type": "code",
        "colab": {
          "base_uri": "https://localhost:8080/",
          "height": 345
        },
        "outputId": "ee9ca74b-d0db-4174-bf8d-57da45ae908f"
      },
      "source": [
        "temp = 10000\n",
        "#print(\"SIZE \", temp)\n",
        "xa = []\n",
        "ya = []\n",
        "#x = []\n",
        "compare_normal = []\n",
        "compare_inte = []\n",
        "y = []\n",
        "for i in range(len(anomalies)):\n",
        "  A = []\n",
        "  B = []\n",
        "  for j in range(temp):\n",
        "    A.append(numbers[i])\n",
        "    B.append(numbers[i])\n",
        "    \n",
        "    \n",
        "  start_time = time.time()\n",
        "  a = Merge_insert_Sort(A, 0, len(A) - 1, anomalies[i]-1)\n",
        "  compare_normal.append(a)\n",
        "  time_taken_1 = time.time() - start_time\n",
        "  xa.append(anomalies[i]-1)\n",
        "  ya.append(time_taken_1*1000)\n",
        "\n",
        "\n",
        "  start_time = time.time()\n",
        "  b = MergeSort(B, 0, len(B)-1)\n",
        "  compare_inte.append(b)\n",
        "  time_taken_2 = time.time() - start_time\n",
        "  y.append(time_taken_2*1000)\n",
        "\n",
        "print(\"Let us look at how time ranges with different 'S' values:\")\n",
        "avg = round(mean(y),2)\n",
        "y = []\n",
        "for i in range(5):\n",
        "  y.append(avg)\n",
        "#plt.subplot(1, 2, 1) \n",
        "plt.plot(xa, ya,linestyle='--', marker='o', label = \"Integrated algorithm sort\")\n",
        "plt.plot(xa, y, label = \"Merge sort\")\n",
        "plt.xlabel(\"Size 'S'\")\n",
        "plt.ylabel(\"Time in milliseconds\")\n",
        "plt.title(\"Time analysis for integrated algorithm\")\n",
        "plt.legend()\n",
        "plt.show()\n",
        "\n",
        "print(compare_normal)\n",
        "print(compare_inte)"
      ],
      "execution_count": 64,
      "outputs": [
        {
          "output_type": "stream",
          "text": [
            "Let us look at how time ranges with different 'S' values:\n"
          ],
          "name": "stdout"
        },
        {
          "output_type": "display_data",
          "data": {
            "image/png": "[encoded data removed]",
            "text/plain": [
              "<Figure size 432x288 with 1 Axes>"
            ]
          },
          "metadata": {
            "tags": []
          }
        },
        {
          "output_type": "stream",
          "text": [
            "[40032, 40032, 40032, 40032, 40032]\n",
            "[69008, 69008, 69008, 69008, 69008]\n"
          ],
          "name": "stdout"
        }
      ]
    },
    {
      "cell_type": "markdown",
      "metadata": {
        "id": "e45QK3z99Cqq",
        "colab_type": "text"
      },
      "source": [
        "### 3. Size = 100000"
      ]
    },
    {
      "cell_type": "code",
      "metadata": {
        "id": "9AZpf4Ok8mr-",
        "colab_type": "code",
        "colab": {
          "base_uri": "https://localhost:8080/",
          "height": 345
        },
        "outputId": "fa155c88-8d59-4bba-ac2b-026d3ee20142"
      },
      "source": [
        "temp = 100000\n",
        "#print(\"SIZE \", temp)\n",
        "xa = []\n",
        "ya = []\n",
        "#x = []\n",
        "compare_normal = []\n",
        "compare_inte = []\n",
        "y = []\n",
        "for i in range(len(anomalies)):\n",
        "  A = []\n",
        "  B = []\n",
        "  for j in range(temp):\n",
        "    A.append(numbers[i])\n",
        "    B.append(numbers[i])\n",
        "    \n",
        "    \n",
        "  start_time = time.time()\n",
        "  a = Merge_insert_Sort(A, 0, len(A) - 1, anomalies[i]-1)\n",
        "  compare_normal.append(a)\n",
        "  time_taken_1 = time.time() - start_time\n",
        "  xa.append(anomalies[i]-1)\n",
        "  ya.append(time_taken_1*1000)\n",
        "\n",
        "\n",
        "  start_time = time.time()\n",
        "  b = MergeSort(B, 0, len(B)-1)\n",
        "  compare_inte.append(b)\n",
        "  time_taken_2 = time.time() - start_time\n",
        "  y.append(time_taken_2*1000)\n",
        "\n",
        "print(\"Let us look at how time ranges with different 'S' values:\")\n",
        "avg = round(mean(y),2)\n",
        "y = []\n",
        "for i in range(5):\n",
        "  y.append(avg)\n",
        "#plt.subplot(1, 2, 1) \n",
        "plt.plot(xa, ya,linestyle='--', marker='o', label = \"Integrated algorithm sort\")\n",
        "plt.plot(xa, y, label = \"Merge sort\")\n",
        "plt.xlabel(\"Size 'S'\")\n",
        "plt.ylabel(\"Time in milliseconds\")\n",
        "plt.title(\"Time analysis for integrated algorithm\")\n",
        "plt.legend()\n",
        "plt.show()\n",
        "\n",
        "print(compare_normal)\n",
        "print(compare_inte)"
      ],
      "execution_count": 65,
      "outputs": [
        {
          "output_type": "stream",
          "text": [
            "Let us look at how time ranges with different 'S' values:\n"
          ],
          "name": "stdout"
        },
        {
          "output_type": "display_data",
          "data": {
            "image/png": "[encoded data removed]",
            "text/plain": [
              "<Figure size 432x288 with 1 Axes>"
            ]
          },
          "metadata": {
            "tags": []
          }
        },
        {
          "output_type": "stream",
          "text": [
            "[601360, 601360, 601360, 592912, 550512]\n",
            "[853904, 853904, 853904, 853904, 853904]\n"
          ],
          "name": "stdout"
        }
      ]
    },
    {
      "cell_type": "markdown",
      "metadata": {
        "id": "80a-zsjs9Iq0",
        "colab_type": "text"
      },
      "source": [
        "### 4. Size = 1000000\n"
      ]
    },
    {
      "cell_type": "code",
      "metadata": {
        "id": "zLC17KfM8s_0",
        "colab_type": "code",
        "colab": {
          "base_uri": "https://localhost:8080/",
          "height": 345
        },
        "outputId": "96180143-3f6e-4b7f-a149-19af9d609cfa"
      },
      "source": [
        "temp = 1000000\n",
        "#print(\"SIZE \", temp)\n",
        "xa = []\n",
        "ya = []\n",
        "#x = []\n",
        "compare_normal = []\n",
        "compare_inte = []\n",
        "y = []\n",
        "for i in range(len(anomalies)):\n",
        "  A = []\n",
        "  B = []\n",
        "  for j in range(temp):\n",
        "    A.append(numbers[i])\n",
        "    B.append(numbers[i])\n",
        "    \n",
        "    \n",
        "  start_time = time.time()\n",
        "  a = Merge_insert_Sort(A, 0, len(A) - 1, anomalies[i]-1)\n",
        "  compare_normal.append(a)\n",
        "  time_taken_1 = time.time() - start_time\n",
        "  xa.append(anomalies[i]-1)\n",
        "  ya.append(time_taken_1*1000)\n",
        "\n",
        "\n",
        "  start_time = time.time()\n",
        "  b = MergeSort(B, 0, len(B)-1)\n",
        "  compare_inte.append(b)\n",
        "  time_taken_2 = time.time() - start_time\n",
        "  y.append(time_taken_2*1000)\n",
        "\n",
        "print(\"Let us look at how time ranges with different 'S' values:\")\n",
        "avg = round(mean(y),2)\n",
        "y = []\n",
        "for i in range(5):\n",
        "  y.append(avg)\n",
        "#plt.subplot(1, 2, 1) \n",
        "plt.plot(xa, ya,linestyle='--', marker='o', label = \"Integrated algorithm sort\")\n",
        "plt.plot(xa, y, label = \"Merge sort\")\n",
        "plt.xlabel(\"Size 'S'\")\n",
        "plt.ylabel(\"Time in milliseconds\")\n",
        "plt.title(\"Time analysis for integrated algorithm\")\n",
        "plt.legend()\n",
        "plt.show()\n",
        "\n",
        "print(compare_normal)\n",
        "print(compare_inte)"
      ],
      "execution_count": 66,
      "outputs": [
        {
          "output_type": "stream",
          "text": [
            "Let us look at how time ranges with different 'S' values:\n"
          ],
          "name": "stdout"
        },
        {
          "output_type": "display_data",
          "data": {
            "image/png": "[encoded data removed]",
            "text/plain": [
              "<Figure size 432x288 with 1 Axes>"
            ]
          },
          "metadata": {
            "tags": []
          }
        },
        {
          "output_type": "stream",
          "text": [
            "[7509376, 7509376, 7509376, 7509376, 7509376]\n",
            "[10066432, 10066432, 10066432, 10066432, 10066432]\n"
          ],
          "name": "stdout"
        }
      ]
    },
    {
      "cell_type": "code",
      "metadata": {
        "id": "YfDtrGE2HvFM",
        "colab_type": "code",
        "colab": {}
      },
      "source": [
        "x = [1000]"
      ],
      "execution_count": 0,
      "outputs": []
    }
  ]
}